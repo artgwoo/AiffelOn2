{
  "nbformat": 4,
  "nbformat_minor": 0,
  "metadata": {
    "colab": {
      "provenance": [],
      "authorship_tag": "ABX9TyMNT5qpcteehSKaOnCc0QW7",
      "include_colab_link": true
    },
    "kernelspec": {
      "name": "python3",
      "display_name": "Python 3"
    },
    "language_info": {
      "name": "python"
    }
  },
  "cells": [
    {
      "cell_type": "markdown",
      "metadata": {
        "id": "view-in-github",
        "colab_type": "text"
      },
      "source": [
        "<a href=\"https://colab.research.google.com/github/artgwoo/AiffelOn2/blob/main/%08/Problem_Solving/CodeUp_6001_6024.ipynb\" target=\"_parent\"><img src=\"https://colab.research.google.com/assets/colab-badge.svg\" alt=\"Open In Colab\"/></a>"
      ]
    },
    {
      "cell_type": "code",
      "execution_count": 1,
      "metadata": {
        "colab": {
          "base_uri": "https://localhost:8080/"
        },
        "id": "bOSfYtmuEI5h",
        "outputId": "f593abcc-21be-4adf-8b1c-5c87024f5d69"
      },
      "outputs": [
        {
          "output_type": "stream",
          "name": "stdout",
          "text": [
            "Hello\n"
          ]
        }
      ],
      "source": [
        "#6001\n",
        "print(\"Hello\")"
      ]
    },
    {
      "cell_type": "code",
      "source": [
        "#6002\n",
        "print(\"Hello World\")"
      ],
      "metadata": {
        "colab": {
          "base_uri": "https://localhost:8080/"
        },
        "id": "6h0T9ahxEOmY",
        "outputId": "1ada04f9-eee3-49e1-8348-cc65a80b2b43"
      },
      "execution_count": 2,
      "outputs": [
        {
          "output_type": "stream",
          "name": "stdout",
          "text": [
            "Hello World\n"
          ]
        }
      ]
    },
    {
      "cell_type": "code",
      "source": [
        "#6003\n",
        "print(\"Hello\")\n",
        "print(\"World\")"
      ],
      "metadata": {
        "colab": {
          "base_uri": "https://localhost:8080/"
        },
        "id": "iviNWz1iEXHo",
        "outputId": "01213236-dd67-4d00-f19d-60fa268b04ad"
      },
      "execution_count": 3,
      "outputs": [
        {
          "output_type": "stream",
          "name": "stdout",
          "text": [
            "Hello\n",
            "World\n"
          ]
        }
      ]
    },
    {
      "cell_type": "code",
      "source": [
        "#6004\n",
        "print(\"'Hello'\")"
      ],
      "metadata": {
        "colab": {
          "base_uri": "https://localhost:8080/"
        },
        "id": "LifneD_JEa2O",
        "outputId": "582a510a-cd7a-40dc-9a5d-c84821ee4e73"
      },
      "execution_count": 5,
      "outputs": [
        {
          "output_type": "stream",
          "name": "stdout",
          "text": [
            "'Hello'\n"
          ]
        }
      ]
    },
    {
      "cell_type": "code",
      "source": [
        "#6005\n",
        "print('\"Hello World\"')"
      ],
      "metadata": {
        "colab": {
          "base_uri": "https://localhost:8080/"
        },
        "id": "ycsnAZFqEdag",
        "outputId": "d1687122-259b-497b-a7cf-bec192e718ec"
      },
      "execution_count": 6,
      "outputs": [
        {
          "output_type": "stream",
          "name": "stdout",
          "text": [
            "\"Hello World\"\n"
          ]
        }
      ]
    },
    {
      "cell_type": "code",
      "source": [
        "#6006\n",
        "print('\\\"!@#$%^&*()\\'')"
      ],
      "metadata": {
        "colab": {
          "base_uri": "https://localhost:8080/"
        },
        "id": "zGFIox3pEizc",
        "outputId": "9db024d9-9646-42f4-e5fc-04ebac21d922"
      },
      "execution_count": 8,
      "outputs": [
        {
          "output_type": "stream",
          "name": "stdout",
          "text": [
            "\"!@#$%^&*()'\n"
          ]
        }
      ]
    },
    {
      "cell_type": "code",
      "source": [
        "#6007\n",
        "print(\"\\\"C:\\\\Download\\\\\\'hello\\'.py\\\"\")"
      ],
      "metadata": {
        "colab": {
          "base_uri": "https://localhost:8080/"
        },
        "id": "bvjV6Z-_End_",
        "outputId": "50f6cb2f-b6cf-417b-84d4-d7a06362f5d6"
      },
      "execution_count": 9,
      "outputs": [
        {
          "output_type": "stream",
          "name": "stdout",
          "text": [
            "\"C:\\Download\\'hello'.py\"\n"
          ]
        }
      ]
    },
    {
      "cell_type": "code",
      "source": [
        "#6008\n",
        "print(\"print(\\\"Hello\\\\n World\\\")\")"
      ],
      "metadata": {
        "colab": {
          "base_uri": "https://localhost:8080/"
        },
        "id": "7DR4hX7qE0_r",
        "outputId": "0c9966b4-be53-4ce1-ed7e-dfbeeea0ae7b"
      },
      "execution_count": 11,
      "outputs": [
        {
          "output_type": "stream",
          "name": "stdout",
          "text": [
            "print(\"Hello\\n World\")\n"
          ]
        }
      ]
    },
    {
      "cell_type": "code",
      "source": [
        "#6009\n",
        "a=input()\n",
        "print(a)"
      ],
      "metadata": {
        "colab": {
          "base_uri": "https://localhost:8080/"
        },
        "id": "dM8jGPGpFIrd",
        "outputId": "0208676d-0e5f-42f2-f6f0-c3aec2face56"
      },
      "execution_count": 12,
      "outputs": [
        {
          "output_type": "stream",
          "name": "stdout",
          "text": [
            "c\n",
            "c\n"
          ]
        }
      ]
    },
    {
      "cell_type": "code",
      "source": [
        "#6010\n",
        "print(int(input()))"
      ],
      "metadata": {
        "colab": {
          "base_uri": "https://localhost:8080/"
        },
        "id": "ZwU4MoSoFUqN",
        "outputId": "6d335bff-8c30-486f-8476-8d1bc0864932"
      },
      "execution_count": 13,
      "outputs": [
        {
          "output_type": "stream",
          "name": "stdout",
          "text": [
            "10\n",
            "10\n"
          ]
        }
      ]
    },
    {
      "cell_type": "code",
      "source": [
        "#6011\n",
        "print(float(input()))"
      ],
      "metadata": {
        "colab": {
          "base_uri": "https://localhost:8080/"
        },
        "id": "nEbMwgT7FX6A",
        "outputId": "9523d6f2-c228-4711-e99b-710ba67f376b"
      },
      "execution_count": 14,
      "outputs": [
        {
          "output_type": "stream",
          "name": "stdout",
          "text": [
            "3.14\n",
            "3.14\n"
          ]
        }
      ]
    },
    {
      "cell_type": "code",
      "source": [
        "#6012\n",
        "a = int(input())\n",
        "b = int(input())\n",
        "print(a,b)"
      ],
      "metadata": {
        "colab": {
          "base_uri": "https://localhost:8080/"
        },
        "id": "_jEd_7sdFbsH",
        "outputId": "94d836f5-91c1-4fd0-a8b6-44a6acb537c5"
      },
      "execution_count": 18,
      "outputs": [
        {
          "output_type": "stream",
          "name": "stdout",
          "text": [
            "4\n",
            "8\n",
            "4 8\n"
          ]
        }
      ]
    },
    {
      "cell_type": "code",
      "source": [
        "#6013\n",
        "a = int(input())\n",
        "b = int(input())\n",
        "print(b,a)"
      ],
      "metadata": {
        "colab": {
          "base_uri": "https://localhost:8080/"
        },
        "id": "nYxSwjkGHEh-",
        "outputId": "18dc66c3-6913-4115-f726-8fa222688d68"
      },
      "execution_count": 19,
      "outputs": [
        {
          "output_type": "stream",
          "name": "stdout",
          "text": [
            "6\n",
            "9\n",
            "9 6\n"
          ]
        }
      ]
    },
    {
      "cell_type": "code",
      "source": [
        "#6014\n",
        "s = float(input())\n",
        "print(s,s,s)"
      ],
      "metadata": {
        "colab": {
          "base_uri": "https://localhost:8080/"
        },
        "id": "S1-ccXFxFh9q",
        "outputId": "4827e893-7651-4c59-dc24-f8d7ed3aff24"
      },
      "execution_count": 20,
      "outputs": [
        {
          "output_type": "stream",
          "name": "stdout",
          "text": [
            "3.14\n",
            "3.14 3.14 3.14\n"
          ]
        }
      ]
    },
    {
      "cell_type": "code",
      "source": [
        "#6015\n",
        "a = int(input())\n",
        "b = int(input())\n",
        "print(a)\n",
        "print(b)"
      ],
      "metadata": {
        "colab": {
          "base_uri": "https://localhost:8080/"
        },
        "id": "ehE1KHgKGOlC",
        "outputId": "e84319b0-525d-491a-c8d4-6d9d477ee99b"
      },
      "execution_count": 21,
      "outputs": [
        {
          "output_type": "stream",
          "name": "stdout",
          "text": [
            "4\n",
            "5\n",
            "4\n",
            "5\n"
          ]
        }
      ]
    },
    {
      "cell_type": "code",
      "source": [
        "#6016\n",
        "a = int(input())\n",
        "b = int(input())\n",
        "c = int(input())\n",
        "print(c)\n",
        "print(a)\n",
        "print(b)"
      ],
      "metadata": {
        "colab": {
          "base_uri": "https://localhost:8080/"
        },
        "id": "juzYxDk6Hjxq",
        "outputId": "a81a5fb7-0b11-4a8f-a6ab-7f72f16e7225"
      },
      "execution_count": 22,
      "outputs": [
        {
          "output_type": "stream",
          "name": "stdout",
          "text": [
            "4\n",
            "5\n",
            "3\n",
            "3\n",
            "4\n",
            "5\n"
          ]
        }
      ]
    },
    {
      "cell_type": "code",
      "source": [
        "#6017\n",
        "a = int(input())\n",
        "print(a,a,a)"
      ],
      "metadata": {
        "colab": {
          "base_uri": "https://localhost:8080/"
        },
        "id": "sTlg4aEwH_13",
        "outputId": "f4ea7dd2-2b48-4ee0-ceeb-9d42fcb1404a"
      },
      "execution_count": 23,
      "outputs": [
        {
          "output_type": "stream",
          "name": "stdout",
          "text": [
            "3\n",
            "3 3 3\n"
          ]
        }
      ]
    },
    {
      "cell_type": "code",
      "source": [
        "#6018 시간 입력받아 그대로 출려\n",
        "a, b = input().split(':')\n",
        "print(a,b,sep=':')\n"
      ],
      "metadata": {
        "colab": {
          "base_uri": "https://localhost:8080/"
        },
        "id": "wjesjlV6INmP",
        "outputId": "17e27dcc-307b-4938-9c9d-07d92a3aeced"
      },
      "execution_count": 25,
      "outputs": [
        {
          "output_type": "stream",
          "name": "stdout",
          "text": [
            "3:14\n",
            "3:14\n"
          ]
        }
      ]
    },
    {
      "cell_type": "code",
      "source": [
        "#6019 연월일 입력받아 순서 바꿔 출력하기\n",
        "y, m, d = input().split('.')\n",
        "print(d,m,y,sep='-')"
      ],
      "metadata": {
        "colab": {
          "base_uri": "https://localhost:8080/"
        },
        "id": "7g4CAHgHIh8o",
        "outputId": "8dd17145-c13a-453a-a94a-36b894b6a09b"
      },
      "execution_count": 27,
      "outputs": [
        {
          "output_type": "stream",
          "name": "stdout",
          "text": [
            "2022.4.13\n",
            "13-4-2022\n"
          ]
        }
      ]
    },
    {
      "cell_type": "code",
      "source": [
        "#6020 주민번호 입력받아 형태 바꿔 출력하기\n",
        "a, b = input().split('-')\n",
        "print(a,b,sep = '')"
      ],
      "metadata": {
        "colab": {
          "base_uri": "https://localhost:8080/"
        },
        "id": "Oi4IERIZJIU7",
        "outputId": "47ac615d-8828-4cda-a718-89c84cb912f2"
      },
      "execution_count": 28,
      "outputs": [
        {
          "output_type": "stream",
          "name": "stdout",
          "text": [
            "1111111-22222222\n",
            "111111122222222\n"
          ]
        }
      ]
    },
    {
      "cell_type": "code",
      "source": [
        "#6021 단어1개 입력받아 나누어 출력\n",
        "a = input()\n",
        "print(a[0])\n",
        "print(a[1])\n",
        "print(a[2])\n",
        "print(a[3])"
      ],
      "metadata": {
        "colab": {
          "base_uri": "https://localhost:8080/"
        },
        "id": "g1wYuWDkJdX7",
        "outputId": "12999685-7792-4f2d-fdd2-818e58f6e6ce"
      },
      "execution_count": 30,
      "outputs": [
        {
          "output_type": "stream",
          "name": "stdout",
          "text": [
            "mommy\n",
            "m\n",
            "o\n",
            "m\n",
            "m\n"
          ]
        }
      ]
    },
    {
      "cell_type": "code",
      "source": [
        "#6022 연월일 입력받아 나누어 출력\n",
        "s = input()\n",
        "print(s[0:2],\"년\", s[2:4],\"월\", s[4:6],\"일\")\n"
      ],
      "metadata": {
        "colab": {
          "base_uri": "https://localhost:8080/"
        },
        "id": "FiCx-2qCJ0yx",
        "outputId": "03803e93-bcba-499d-fe4e-4c54f8df94b7"
      },
      "execution_count": 50,
      "outputs": [
        {
          "output_type": "stream",
          "name": "stdout",
          "text": [
            "220413\n",
            "22 년 04 월 13 일\n"
          ]
        }
      ]
    },
    {
      "cell_type": "code",
      "source": [
        "#6023 시분초 입력받아 분만 출력\n",
        "s = input().split(':')\n",
        "print(s[1])"
      ],
      "metadata": {
        "colab": {
          "base_uri": "https://localhost:8080/"
        },
        "id": "x4fII2oEJ33K",
        "outputId": "ce1457bf-fa4d-4f96-97e8-22c619d87c7b"
      },
      "execution_count": 47,
      "outputs": [
        {
          "output_type": "stream",
          "name": "stdout",
          "text": [
            "20:30:15\n",
            "30\n"
          ]
        }
      ]
    },
    {
      "cell_type": "code",
      "source": [
        "#6024 단언 2개 입력받아 이어 붙이기(설명)\n",
        "a = input()\n",
        "b = input()\n",
        "s = a+b\n",
        "print(s)"
      ],
      "metadata": {
        "colab": {
          "base_uri": "https://localhost:8080/"
        },
        "id": "hS-pCWbUKSep",
        "outputId": "aa2bdc4b-19a3-4833-811e-064e665318bb"
      },
      "execution_count": 39,
      "outputs": [
        {
          "output_type": "stream",
          "name": "stdout",
          "text": [
            "지우\n",
            "안녕\n",
            "지우안녕\n"
          ]
        }
      ]
    },
    {
      "cell_type": "code",
      "source": [
        "a,b = input().split('.')\n",
        "s = a + b\n",
        "print(s)"
      ],
      "metadata": {
        "colab": {
          "base_uri": "https://localhost:8080/"
        },
        "id": "CdwduvCrKqyp",
        "outputId": "3d210eb7-35d4-4b5e-9ac2-2274a59b3378"
      },
      "execution_count": 46,
      "outputs": [
        {
          "output_type": "stream",
          "name": "stdout",
          "text": [
            "안녕.지우\n",
            "안녕지우\n"
          ]
        }
      ]
    },
    {
      "cell_type": "code",
      "source": [],
      "metadata": {
        "id": "3IJ7jRteNsuO"
      },
      "execution_count": 41,
      "outputs": []
    }
  ]
}