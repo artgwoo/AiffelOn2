{
 "cells": [
  {
   "cell_type": "markdown",
   "id": "f91ac69b",
   "metadata": {},
   "source": [
    "# 라이브러리 버전을 확인해 봅니다"
   ]
  },
  {
   "cell_type": "code",
   "execution_count": 18,
   "id": "788a4cfc",
   "metadata": {},
   "outputs": [
    {
     "name": "stdout",
     "output_type": "stream",
     "text": [
      "2.6.0\n"
     ]
    }
   ],
   "source": [
    "import glob  #glob 모듈의 glob 함수는 사용자가 제시한 조건에 맞는 파일명을 리스트 형식으로 반환한다\n",
    "import re\n",
    "import os\n",
    "import numpy as np\n",
    "import tensorflow as tf\n",
    "\n",
    "print(tensorflow.__version__)"
   ]
  },
  {
   "cell_type": "markdown",
   "id": "185be878",
   "metadata": {},
   "source": [
    "# Step 1. 데이터 다운로드\n",
    "이미 실습(1) 데이터 다듬기에서 Cloud shell에 심볼릭 링크로 ~/aiffel/lyricist/data를 생성하셨다면, ~/aiffel/lyricist/data/lyrics에 데이터가 있습니다."
   ]
  },
  {
   "cell_type": "markdown",
   "id": "26f38c20",
   "metadata": {},
   "source": [
    "# Step 2. 데이터 읽어오기"
   ]
  },
  {
   "cell_type": "code",
   "execution_count": 19,
   "id": "06153dfe",
   "metadata": {},
   "outputs": [
    {
     "name": "stdout",
     "output_type": "stream",
     "text": [
      "데이터 크기: 187088\n",
      "Examples:\n",
      " ['', '', '[Spoken Intro:]']\n"
     ]
    }
   ],
   "source": [
    "import glob\n",
    "import os\n",
    "\n",
    "txt_file_path = os.getenv('HOME')+'/aiffel/lyricist/data/lyrics/*' #os.getenv(x)함수는 환경 변수x의 값을 포함하는 문자열 변수를 반환합니다. txt_file_path 에 \"/root/aiffel/lyricist/data/lyrics/*\" 저장\n",
    "\n",
    "txt_list = glob.glob(txt_file_path) #txt_file_path 경로에 있는 모든 파일명을 리스트 형식으로 txt_list 에 할당\n",
    "\n",
    "raw_corpus = [] \n",
    "\n",
    "# 여러개의 txt 파일을 모두 읽어서 raw_corpus 에 담습니다.\n",
    "for txt_file in txt_list:\n",
    "    with open(txt_file, \"r\") as f:\n",
    "        raw = f.read().splitlines() #read() : 파일 전체의 내용을 하나의 문자열로 읽어온다. , splitlines()  : 여러라인으로 구분되어 있는 문자열을 한라인씩 분리하여 리스트로 반환\n",
    "        raw_corpus.extend(raw) # extend() : 리스트함수로 추가적인 내용을 연장 한다.\n",
    "\n",
    "print(\"데이터 크기:\", len(raw_corpus))\n",
    "print(\"Examples:\\n\", raw_corpus[:3])"
   ]
  },
  {
   "cell_type": "markdown",
   "id": "a637d098",
   "metadata": {},
   "source": [
    "# Step 3. 데이터 정제\n",
    "앞서 배운 테크닉들을 활용해 문장 생성에 적합한 모양새로 데이터를 정제하세요!\n",
    "\n",
    "preprocess_sentence() 함수를 만든 것을 기억하시죠? 이를 활용해 데이터를 정제하도록 하겠습니다.\n",
    "\n",
    "추가로 지나치게 긴 문장은 다른 데이터들이 과도한 Padding을 갖게 하므로 제거합니다. 너무 긴 문장은 노래 가사 작사하기에 어울리지 않을 수도 있겠죠.\n",
    "그래서 이번에는 문장을 토큰화 했을 때 토큰의 개수가 15개를 넘어가는 문장을 학습 데이터에서 제외하기 를 권합니다."
   ]
  },
  {
   "cell_type": "code",
   "execution_count": 20,
   "id": "472fac89",
   "metadata": {
    "scrolled": true
   },
   "outputs": [
    {
     "name": "stdout",
     "output_type": "stream",
     "text": [
      "[Spoken Intro:]\n",
      "You ever want something \n",
      "that you know you shouldn't have \n",
      "The more you know you shouldn't have it, \n",
      "The more you want it \n",
      "And then one day you get it, \n",
      "It's so good too \n",
      "But it's just like my girl \n"
     ]
    }
   ],
   "source": [
    "# enumerate() 함수를 이용하여 raw_corpus list 내에 저장된 문장과 그 문장의 인덱스를 반환 (인덱스, 문장 순)\n",
    "for idx, sentence in enumerate(raw_corpus):\n",
    "    if len(sentence) == 0: continue   # 길이가 0인 문장은 건너뜁니다.\n",
    "    if sentence[-1] == \":\": continue  # 문장의 끝이 : 인 문장은 건너뜁니다.\n",
    "\n",
    "    if idx > 9: break   # 일단 문장 10개만 확인해 볼 겁니다.\n",
    "        \n",
    "    print(sentence)"
   ]
  },
  {
   "cell_type": "code",
   "execution_count": 21,
   "id": "a9694697",
   "metadata": {},
   "outputs": [
    {
     "name": "stdout",
     "output_type": "stream",
     "text": [
      "<start> this is sample sentence . <end>\n"
     ]
    }
   ],
   "source": [
    "# 입력된 문장을\n",
    "#     1. 소문자로 바꾸고, 양쪽 공백을 지웁니다\n",
    "#     2. 특수문자 양쪽에 공백을 넣고\n",
    "#     3. 여러개의 공백은 하나의 공백으로 바꿉니다\n",
    "#     4. a-zA-Z?.!,¿가 아닌 모든 문자를 하나의 공백으로 바꿉니다\n",
    "#     5. 다시 양쪽 공백을 지웁니다\n",
    "#     6. 문장 시작에는 <start>, 끝에는 <end>를 추가합니다\n",
    "# 이 순서로 처리해주면 문제가 되는 상황을 방지할 수 있겠네요!\n",
    "def preprocess_sentence(sentence):\n",
    "    sentence = sentence.lower().strip() # 1.소문자로 바꾸고, 양족 공백을 지웁니다\n",
    "    sentence = re.sub(r\"([?.!,¿])\", r\" \\1 \", sentence) # 2.특수문자 양쪽에 공백을 넣고\n",
    "    sentence = re.sub(r'[\" \"]+', \" \", sentence) # 3.여러개의 공백은 하나의 공백으로 바꿉니다.\n",
    "    sentence = re.sub(r\"[^a-zA-Z?.!,¿]+\", \" \", sentence) # 4.a-zA-Z?.!,¿가 아닌 모든 문자를 하나의 공백으로 바꿉니다.\n",
    "    sentence = sentence.strip() # 5.다시 양쪽 공백을 지웁니다.\n",
    "    sentence = '<start> ' + sentence + ' <end>' # 6.문장 시작에는 <start>, 끝에는 <end>를 추가합니다.\n",
    "    return sentence\n",
    "\n",
    "# 이 문장이 어떻게 필터링되는지 확인해 보세요.\n",
    "print(preprocess_sentence(\"This @_is ;;;sample        sentence.\"))"
   ]
  },
  {
   "cell_type": "markdown",
   "id": "f4a7c6f3",
   "metadata": {},
   "source": [
    "## 정규표현식을 이용한 corpus 생성"
   ]
  },
  {
   "cell_type": "code",
   "execution_count": 22,
   "id": "8dc99eb3",
   "metadata": {
    "scrolled": false
   },
   "outputs": [
    {
     "data": {
      "text/plain": [
       "['<start> spoken intro <end>',\n",
       " '<start> you ever want something <end>',\n",
       " '<start> that you know you shouldn t have <end>',\n",
       " '<start> the more you know you shouldn t have it , <end>',\n",
       " '<start> the more you want it <end>',\n",
       " '<start> and then one day you get it , <end>',\n",
       " '<start> it s so good too <end>',\n",
       " '<start> but it s just like my girl <end>',\n",
       " '<start> when she s around me <end>',\n",
       " '<start> i just feel so good , so good <end>']"
      ]
     },
     "execution_count": 22,
     "metadata": {},
     "output_type": "execute_result"
    }
   ],
   "source": [
    "# 여기에 정제된 문장을 모을겁니다\n",
    "corpus = []\n",
    "\n",
    "# raw_corpus list에 저장된 문장들을 순서대로 반환하여 sentence에 저장\n",
    "for sentence in raw_corpus:\n",
    "    # 우리가 원하지 않는 문장은 건너뜁니다\n",
    "    if len(sentence) == 0: continue\n",
    "    if sentence[-1] == \":\": continue\n",
    "    \n",
    "    # 앞서 구현한 preprocess_sentence() 함수를 이용하여 문장을 정제를 하고 담아주세요\n",
    "    preprocessed_sentence = preprocess_sentence(sentence)\n",
    "    corpus.append(preprocessed_sentence)\n",
    "        \n",
    "# 정제된 결과를 10개만 확인해보죠\n",
    "corpus[:10]"
   ]
  },
  {
   "cell_type": "markdown",
   "id": "2a3241b2",
   "metadata": {},
   "source": [
    "## tf.keras.preprocessing.text.Tokenizer를 이용해 corpus를 텐서로 변환"
   ]
  },
  {
   "cell_type": "code",
   "execution_count": 23,
   "id": "736d0a58",
   "metadata": {},
   "outputs": [
    {
     "name": "stdout",
     "output_type": "stream",
     "text": [
      "[[   2 2701 2584 ...    0    0    0]\n",
      " [   2    7  156 ...    0    0    0]\n",
      " [   2   17    7 ...    0    0    0]\n",
      " ...\n",
      " [   2  311    1 ...    0    0    0]\n",
      " [   2  735    5 ...    0    0    0]\n",
      " [   2  735    5 ...    0    0    0]] <keras_preprocessing.text.Tokenizer object at 0x7fc8e25a4040>\n"
     ]
    }
   ],
   "source": [
    "# 토큰화 할 때 텐서플로우의 Tokenizer와 pad_sequences를 사용합니다\n",
    "# 더 잘 알기 위해 아래 문서들을 참고하면 좋습니다\n",
    "# https://www.tensorflow.org/api_docs/python/tf/keras/preprocessing/text/Tokenizer\n",
    "# https://www.tensorflow.org/api_docs/python/tf/keras/preprocessing/sequence/pad_sequences\n",
    "def tokenize(corpus):\n",
    "    # 7000단어를 기억할 수 있는 tokenizer를 만들겁니다\n",
    "    # 우리는 이미 문장을 정제했으니 filters가 필요없어요\n",
    "    # 7000단어에 포함되지 못한 단어는 '<unk>'로 바꿀거에요\n",
    "    tokenizer = tf.keras.preprocessing.text.Tokenizer(\n",
    "        num_words=7000, \n",
    "        filters=' ',\n",
    "        oov_token=\"<unk>\"\n",
    "    )\n",
    "    # corpus를 이용해 tokenizer 내부의 단어장을 완성합니다\n",
    "    # tokenizer.fit_on_texts(texts): 문자 데이터를 입력받아 리스트의 형태로 변환하는 메서드\n",
    "    tokenizer.fit_on_texts(corpus)\n",
    "    # 준비한 tokenizer를 이용해 corpus를 Tensor로 변환합니다\n",
    "    # tokenizer.texts_to_sequences(texts): 텍스트 안의 단어들을 숫자의 시퀀스 형태로 변환하는 메서드\n",
    "    tensor = tokenizer.texts_to_sequences(corpus)   \n",
    "    # 입력 데이터의 시퀀스 길이를 일정하게 맞춰줍니다\n",
    "    # 만약 시퀀스가 짧다면 문장 뒤에 패딩을 붙여 길이를 맞춰줍니다.\n",
    "    # 문장 앞에 패딩을 붙여 길이를 맞추고 싶다면 padding='pre'를 사용합니다\n",
    "    tensor = tf.keras.preprocessing.sequence.pad_sequences(tensor, padding='post',maxlen=20)  \n",
    "    \n",
    "    print(tensor,tokenizer)\n",
    "    return tensor, tokenizer\n",
    "\n",
    "tensor, tokenizer = tokenize(corpus)"
   ]
  },
  {
   "cell_type": "code",
   "execution_count": 24,
   "id": "728d33b4",
   "metadata": {},
   "outputs": [
    {
     "name": "stdout",
     "output_type": "stream",
     "text": [
      "[[   2 2701 2584    3    0    0    0    0    0    0]\n",
      " [   2    7  156   62  199    3    0    0    0    0]\n",
      " [   2   17    7   34    7 1518   15   76    3    0]]\n"
     ]
    }
   ],
   "source": [
    "print(tensor[:3, :10])"
   ]
  },
  {
   "cell_type": "code",
   "execution_count": 25,
   "id": "8abdb358",
   "metadata": {
    "scrolled": true
   },
   "outputs": [
    {
     "name": "stdout",
     "output_type": "stream",
     "text": [
      "1 : <unk>\n",
      "2 : <start>\n",
      "3 : <end>\n",
      "4 : ,\n",
      "5 : i\n",
      "6 : the\n",
      "7 : you\n",
      "8 : and\n",
      "9 : a\n",
      "10 : to\n"
     ]
    }
   ],
   "source": [
    "# tokenizer.index_word: 현재 계산된 단어의 인덱스와 인덱스에 해당하는 단어를 dictionary 형대로 반환 (Ex. {index: '~~', index: '~~', ...})\n",
    "for idx in tokenizer.index_word:\n",
    "    print(idx, \":\", tokenizer.index_word[idx])\n",
    "\n",
    "    if idx >= 10: break"
   ]
  },
  {
   "cell_type": "code",
   "execution_count": 26,
   "id": "350585f1",
   "metadata": {
    "scrolled": false
   },
   "outputs": [
    {
     "name": "stdout",
     "output_type": "stream",
     "text": [
      "[   2 2701 2584    3    0    0    0    0    0    0    0    0    0    0\n",
      "    0    0    0    0    0]\n",
      "[2701 2584    3    0    0    0    0    0    0    0    0    0    0    0\n",
      "    0    0    0    0    0]\n"
     ]
    }
   ],
   "source": [
    "# tensor에서 마지막 토큰을 잘라내서 소스 문장을 생성합니다\n",
    "# 마지막 토큰은 <end>가 아니라 <pad>일 가능성이 높습니다.\n",
    "src_input = tensor[:, :-1]  \n",
    "# tensor에서 <start>를 잘라내서 타겟 문장을 생성합니다.\n",
    "tgt_input = tensor[:, 1:]    \n",
    "\n",
    "print(src_input[0])\n",
    "print(tgt_input[0])"
   ]
  },
  {
   "cell_type": "markdown",
   "id": "cf1bbebf",
   "metadata": {},
   "source": [
    "## tf.data.Dataset.from_tensor_slices()를 이용해 corpus 텐서를 tf.data.Dataset객체로 변환"
   ]
  },
  {
   "cell_type": "code",
   "execution_count": 27,
   "id": "9edd1a87",
   "metadata": {},
   "outputs": [
    {
     "data": {
      "text/plain": [
       "<BatchDataset shapes: ((256, 19), (256, 19)), types: (tf.int32, tf.int32)>"
      ]
     },
     "execution_count": 27,
     "metadata": {},
     "output_type": "execute_result"
    }
   ],
   "source": [
    "BUFFER_SIZE = len(src_input)\n",
    "BATCH_SIZE = 256\n",
    "steps_per_epoch = len(src_input) // BATCH_SIZE\n",
    "\n",
    " # tokenizer가 구축한 단어사전 내 7000개와, 여기 포함되지 않은 0:<pad>를 포함하여 7001개\n",
    " # tokenizer.num_words: 주어진 데이터의 문장들에서 빈도수가 높은 n개의 단어만 선택\n",
    " # tokenize() 함수에서 num_words를 7000개로 선언했기 때문에, tokenizer.num_words의 값은 7000\n",
    "VOCAB_SIZE = tokenizer.num_words + 1   \n",
    "\n",
    "# 준비한 데이터 소스로부터 데이터셋을 만듭니다\n",
    "# 데이터셋에 대해서는 아래 문서를 참고하세요\n",
    "# 자세히 알아둘수록 도움이 많이 되는 중요한 문서입니다\n",
    "# https://www.tensorflow.org/api_docs/python/tf/data/Dataset\n",
    "dataset = tf.data.Dataset.from_tensor_slices((src_input, tgt_input))\n",
    "dataset = dataset.shuffle(BUFFER_SIZE)\n",
    "dataset = dataset.batch(BATCH_SIZE, drop_remainder=True)\n",
    "dataset"
   ]
  },
  {
   "cell_type": "markdown",
   "id": "0d38f422",
   "metadata": {},
   "source": [
    "# Step 4. 평가 데이터셋 분리\n",
    "훈련 데이터와 평가 데이터를 분리하세요!\n",
    "\n",
    "tokenize() 함수로 데이터를 Tensor로 변환한 후, sklearn 모듈의 train_test_split() 함수를 사용해 훈련 데이터와 평가 데이터를 분리하도록 하겠습니다. 단어장의 크기는 12,000 이상 으로 설정하세요! 총 데이터의 20% 를 평가 데이터셋으로 사용해 주세요!"
   ]
  },
  {
   "cell_type": "code",
   "execution_count": 29,
   "id": "4491975c",
   "metadata": {},
   "outputs": [],
   "source": [
    "class TextGenerator(tf.keras.Model):\n",
    "    def __init__(self, vocab_size, embedding_size, hidden_size):\n",
    "        super().__init__()\n",
    "        # Embedding 레이어, 2개의 LSTM 레이어, 1개의 Dense 레이어로 구성되어 있다.\n",
    "        # Embedding 레이어는 단어 사전의 인덱스 값을 해당 인덱스 번째의 워드 벡터로 바꿔준다.\n",
    "        # 이 워드 벡터는 의미 벡터 공간에서 단어의 추상적 표현으로 사용된다. \n",
    "        self.embedding = tf.keras.layers.Embedding(vocab_size, embedding_size) \n",
    "        self.rnn_1 = tf.keras.layers.LSTM(hidden_size, return_sequences=True)  \n",
    "        self.rnn_2 = tf.keras.layers.LSTM(hidden_size, return_sequences=True)\n",
    "        self.linear = tf.keras.layers.Dense(vocab_size)\n",
    "        \n",
    "    def call(self, x):\n",
    "        out = self.embedding(x)\n",
    "        out = self.rnn_1(out)\n",
    "        out = self.rnn_2(out)\n",
    "        out = self.linear(out)\n",
    "        \n",
    "        return out\n",
    "# embedding size 값이 커질수록 단어의 추상적인 특징들을 더 잡아낼 수 있지만\n",
    "# 그만큼 충분한 데이터가 없으면 안좋은 결과 값을 가져옵니다!   \n",
    "embedding_size = 256 # 워드 벡터의 차원수를 말하며 단어가 추상적으로 표현되는 크기입니다.\n",
    "hidden_size = 1024 # 모델에 얼마나 많은 일꾼을 둘 것인가? 정도로 이해하면 좋다.\n",
    "model = TextGenerator(tokenizer.num_words + 1, embedding_size , hidden_size) # tokenizer.num_words에 +1인 이유는 문장에 없는 pad가 사용되었기 때문이다."
   ]
  },
  {
   "cell_type": "code",
   "execution_count": 30,
   "id": "b8eb375c",
   "metadata": {
    "scrolled": true
   },
   "outputs": [
    {
     "data": {
      "text/plain": [
       "<tf.Tensor: shape=(256, 19, 7001), dtype=float32, numpy=\n",
       "array([[[-1.39964264e-04,  6.60082587e-05,  8.91539912e-06, ...,\n",
       "          1.93911677e-04, -1.38178264e-04,  3.82359722e-05],\n",
       "        [-3.48199569e-06,  4.11419926e-04,  9.40333921e-05, ...,\n",
       "          6.83883309e-06, -2.08237499e-04, -1.38749980e-04],\n",
       "        [ 1.20023004e-04,  6.36650657e-04, -5.84299705e-05, ...,\n",
       "         -1.24356739e-04,  1.46851025e-05, -4.91192550e-05],\n",
       "        ...,\n",
       "        [-5.48708485e-04,  3.81875230e-04,  3.48989805e-03, ...,\n",
       "         -2.52134237e-03,  1.70834723e-03, -2.35806871e-03],\n",
       "        [-6.50846399e-04,  4.47274186e-04,  4.00601747e-03, ...,\n",
       "         -2.59971991e-03,  1.73650624e-03, -2.45236908e-03],\n",
       "        [-7.26783241e-04,  5.18623623e-04,  4.47713491e-03, ...,\n",
       "         -2.65415804e-03,  1.73081539e-03, -2.53182766e-03]],\n",
       "\n",
       "       [[-1.39964264e-04,  6.60082587e-05,  8.91539912e-06, ...,\n",
       "          1.93911677e-04, -1.38178264e-04,  3.82359722e-05],\n",
       "        [-3.74928466e-04,  9.61348542e-06,  1.52625129e-04, ...,\n",
       "          2.68399104e-04, -1.99074624e-04,  2.69319658e-04],\n",
       "        [-7.46720238e-04, -2.61360838e-04, -6.09526724e-05, ...,\n",
       "          3.28300550e-04, -4.52445747e-05,  2.45370138e-05],\n",
       "        ...,\n",
       "        [-7.03557977e-04,  4.48313833e-04,  5.10441745e-03, ...,\n",
       "         -2.45842850e-03,  1.11726671e-03, -2.48717004e-03],\n",
       "        [-7.38927862e-04,  5.20668109e-04,  5.45607507e-03, ...,\n",
       "         -2.51478725e-03,  1.15347770e-03, -2.55282968e-03],\n",
       "        [-7.67111953e-04,  5.94494864e-04,  5.77129144e-03, ...,\n",
       "         -2.55262712e-03,  1.16123876e-03, -2.61109509e-03]],\n",
       "\n",
       "       [[-1.39964264e-04,  6.60082587e-05,  8.91539912e-06, ...,\n",
       "          1.93911677e-04, -1.38178264e-04,  3.82359722e-05],\n",
       "        [-1.26018640e-04,  5.80018968e-05, -4.59951625e-05, ...,\n",
       "         -2.99134695e-06,  8.99174556e-05, -2.54620361e-04],\n",
       "        [-3.28463066e-04,  2.31089682e-04, -1.75140012e-04, ...,\n",
       "          4.59050425e-05,  1.77340626e-04, -5.70465403e-04],\n",
       "        ...,\n",
       "        [-4.74284549e-04,  2.33785948e-04,  3.34616145e-03, ...,\n",
       "         -2.14229547e-03,  1.47538341e-03, -1.94232585e-03],\n",
       "        [-4.97567875e-04,  1.89338069e-04,  3.82100395e-03, ...,\n",
       "         -2.32413737e-03,  1.63928862e-03, -2.11780937e-03],\n",
       "        [-5.24755917e-04,  1.77676367e-04,  4.26597707e-03, ...,\n",
       "         -2.45984411e-03,  1.75201346e-03, -2.27189227e-03]],\n",
       "\n",
       "       ...,\n",
       "\n",
       "       [[-1.39964264e-04,  6.60082587e-05,  8.91539912e-06, ...,\n",
       "          1.93911677e-04, -1.38178264e-04,  3.82359722e-05],\n",
       "        [-3.48199569e-06,  4.11419926e-04,  9.40333921e-05, ...,\n",
       "          6.83883309e-06, -2.08237499e-04, -1.38749980e-04],\n",
       "        [ 2.64409027e-04,  5.29786863e-04,  1.97480520e-04, ...,\n",
       "         -1.49668558e-04, -2.01529387e-04,  2.47272983e-05],\n",
       "        ...,\n",
       "        [-2.96442566e-04, -8.89732546e-05,  2.93897511e-03, ...,\n",
       "         -2.34621181e-03,  1.39375578e-03, -1.87236234e-03],\n",
       "        [-4.42252116e-04, -5.14178100e-05,  3.44524602e-03, ...,\n",
       "         -2.48925365e-03,  1.52031286e-03, -2.07018433e-03],\n",
       "        [-5.56123210e-04,  1.04620294e-05,  3.92510509e-03, ...,\n",
       "         -2.58953776e-03,  1.60304294e-03, -2.24149390e-03]],\n",
       "\n",
       "       [[-1.39964264e-04,  6.60082587e-05,  8.91539912e-06, ...,\n",
       "          1.93911677e-04, -1.38178264e-04,  3.82359722e-05],\n",
       "        [-2.48128403e-04,  5.40499605e-05,  1.95266941e-04, ...,\n",
       "          1.76206857e-04, -1.08364169e-04, -3.16569240e-05],\n",
       "        [-1.09145927e-04,  5.43844035e-05,  1.01610676e-04, ...,\n",
       "          1.00596204e-04, -2.39270099e-04,  8.97858408e-05],\n",
       "        ...,\n",
       "        [-6.64217339e-04, -2.51254183e-04,  4.20055026e-03, ...,\n",
       "         -2.83178058e-03,  9.97468596e-04, -1.87793188e-03],\n",
       "        [-6.87234278e-04, -1.38885807e-04,  4.64449218e-03, ...,\n",
       "         -2.88291718e-03,  1.13271095e-03, -2.03073211e-03],\n",
       "        [-7.08878913e-04, -2.08360798e-05,  5.04985312e-03, ...,\n",
       "         -2.90972344e-03,  1.21707423e-03, -2.16181134e-03]],\n",
       "\n",
       "       [[-1.39964264e-04,  6.60082587e-05,  8.91539912e-06, ...,\n",
       "          1.93911677e-04, -1.38178264e-04,  3.82359722e-05],\n",
       "        [-1.29742868e-04, -3.29064751e-05,  2.38782159e-04, ...,\n",
       "          3.72084323e-04, -3.26966168e-04,  2.58427084e-04],\n",
       "        [ 9.82707425e-05, -1.39150230e-04,  1.39050360e-04, ...,\n",
       "          4.41689132e-04, -3.69677698e-04,  5.78734151e-04],\n",
       "        ...,\n",
       "        [-2.53864098e-04,  3.10789968e-04,  4.04133368e-03, ...,\n",
       "         -2.44865776e-03,  1.87694503e-03, -1.76926760e-03],\n",
       "        [-3.21464788e-04,  3.72532842e-04,  4.50283336e-03, ...,\n",
       "         -2.54469947e-03,  1.89589814e-03, -2.01512710e-03],\n",
       "        [-3.80668294e-04,  4.41897224e-04,  4.91995411e-03, ...,\n",
       "         -2.60426872e-03,  1.87369424e-03, -2.21719523e-03]]],\n",
       "      dtype=float32)>"
      ]
     },
     "execution_count": 30,
     "metadata": {},
     "output_type": "execute_result"
    }
   ],
   "source": [
    "# 데이터셋에서 데이터 한 배치만 불러오는 방법입니다.\n",
    "# 지금은 동작 원리에 너무 빠져들지 마세요~\n",
    "for src_sample, tgt_sample in dataset.take(1): break\n",
    "\n",
    "# 한 배치만 불러온 데이터를 모델에 넣어봅니다\n",
    "model(src_sample)"
   ]
  },
  {
   "cell_type": "code",
   "execution_count": 31,
   "id": "acb62950",
   "metadata": {
    "scrolled": true
   },
   "outputs": [
    {
     "name": "stdout",
     "output_type": "stream",
     "text": [
      "Model: \"text_generator\"\n",
      "_________________________________________________________________\n",
      "Layer (type)                 Output Shape              Param #   \n",
      "=================================================================\n",
      "embedding (Embedding)        multiple                  1792256   \n",
      "_________________________________________________________________\n",
      "lstm (LSTM)                  multiple                  5246976   \n",
      "_________________________________________________________________\n",
      "lstm_1 (LSTM)                multiple                  8392704   \n",
      "_________________________________________________________________\n",
      "dense (Dense)                multiple                  7176025   \n",
      "=================================================================\n",
      "Total params: 22,607,961\n",
      "Trainable params: 22,607,961\n",
      "Non-trainable params: 0\n",
      "_________________________________________________________________\n"
     ]
    }
   ],
   "source": [
    "# 모델의 구조를 확인합니다.\n",
    "model.summary()"
   ]
  },
  {
   "cell_type": "code",
   "execution_count": 32,
   "id": "d04ab088",
   "metadata": {},
   "outputs": [
    {
     "name": "stdout",
     "output_type": "stream",
     "text": [
      "Epoch 1/30\n",
      "686/686 [==============================] - 122s 170ms/step - loss: 2.7539\n",
      "Epoch 2/30\n",
      "686/686 [==============================] - 119s 174ms/step - loss: 2.3699\n",
      "Epoch 3/30\n",
      "686/686 [==============================] - 119s 173ms/step - loss: 2.2251\n",
      "Epoch 4/30\n",
      "686/686 [==============================] - 119s 173ms/step - loss: 2.1202\n",
      "Epoch 5/30\n",
      "686/686 [==============================] - 119s 174ms/step - loss: 2.0311\n",
      "Epoch 6/30\n",
      "686/686 [==============================] - 120s 174ms/step - loss: 1.9501\n",
      "Epoch 7/30\n",
      "686/686 [==============================] - 119s 174ms/step - loss: 1.8743\n",
      "Epoch 8/30\n",
      "686/686 [==============================] - 119s 174ms/step - loss: 1.8017\n",
      "Epoch 9/30\n",
      "686/686 [==============================] - 119s 173ms/step - loss: 1.7332\n",
      "Epoch 10/30\n",
      "686/686 [==============================] - 119s 174ms/step - loss: 1.6673\n",
      "Epoch 11/30\n",
      "686/686 [==============================] - 119s 174ms/step - loss: 1.6041\n",
      "Epoch 12/30\n",
      "686/686 [==============================] - 119s 173ms/step - loss: 1.5431\n",
      "Epoch 13/30\n",
      "686/686 [==============================] - 120s 174ms/step - loss: 1.4841\n",
      "Epoch 14/30\n",
      "686/686 [==============================] - 119s 174ms/step - loss: 1.4276\n",
      "Epoch 15/30\n",
      "686/686 [==============================] - 119s 174ms/step - loss: 1.3723\n",
      "Epoch 16/30\n",
      "686/686 [==============================] - 120s 174ms/step - loss: 1.3191\n",
      "Epoch 17/30\n",
      "686/686 [==============================] - 120s 174ms/step - loss: 1.2685\n",
      "Epoch 18/30\n",
      "686/686 [==============================] - 119s 174ms/step - loss: 1.2201\n",
      "Epoch 19/30\n",
      "686/686 [==============================] - 120s 174ms/step - loss: 1.1737\n",
      "Epoch 20/30\n",
      "686/686 [==============================] - 119s 173ms/step - loss: 1.1300\n",
      "Epoch 21/30\n",
      "686/686 [==============================] - 119s 174ms/step - loss: 1.0891\n",
      "Epoch 22/30\n",
      "686/686 [==============================] - 119s 173ms/step - loss: 1.0505\n",
      "Epoch 23/30\n",
      "686/686 [==============================] - 119s 174ms/step - loss: 1.0147\n",
      "Epoch 24/30\n",
      "686/686 [==============================] - 119s 174ms/step - loss: 0.9811\n",
      "Epoch 25/30\n",
      "686/686 [==============================] - 119s 174ms/step - loss: 0.9499\n",
      "Epoch 26/30\n",
      "686/686 [==============================] - 119s 174ms/step - loss: 0.9214\n",
      "Epoch 27/30\n",
      "686/686 [==============================] - 119s 174ms/step - loss: 0.8950\n",
      "Epoch 28/30\n",
      "686/686 [==============================] - 119s 174ms/step - loss: 0.8706\n",
      "Epoch 29/30\n",
      "686/686 [==============================] - 119s 174ms/step - loss: 0.8481\n",
      "Epoch 30/30\n",
      "686/686 [==============================] - 119s 174ms/step - loss: 0.8280\n"
     ]
    },
    {
     "data": {
      "text/plain": [
       "<keras.callbacks.History at 0x7fc84f1a5dc0>"
      ]
     },
     "execution_count": 32,
     "metadata": {},
     "output_type": "execute_result"
    }
   ],
   "source": [
    "# optimizer와 loss등은 차차 배웁니다\n",
    "# 혹시 미리 알고 싶다면 아래 문서를 참고하세요\n",
    "# https://www.tensorflow.org/api_docs/python/tf/keras/optimizers\n",
    "# https://www.tensorflow.org/api_docs/python/tf/keras/losses\n",
    "# 양이 상당히 많은 편이니 지금 보는 것은 추천하지 않습니다\n",
    "\n",
    "# Adam 알고리즘을 구현하는 optimzier이며 어떤 optimzier를 써야할지 모른다면 Adam을 쓰는 것도 방법이다.\n",
    "# 우리가 학습을 할 때 최대한 틀리지 않는 방향으로 학습을 해야한다.\n",
    "# 여기서 얼마나 틀리는지(loss)를 알게하는 함수가 손실함수 이다.\n",
    "# 이 손실함수의 최소값을 찾는 것을 학습의 목표로 하며 여기서 최소값을 찾아가는 과정을 optimization 이라하고\n",
    "# 이를 수행하는 알고리즘을 optimizer(최적화)라고 한다.\n",
    "\n",
    "optimizer = tf.keras.optimizers.Adam() # Adam은 현재 가장 많이 사용하는 옵티마이저이다. 자세한 내용은 차차 배운다.\n",
    "loss = tf.keras.losses.SparseCategoricalCrossentropy( # 훈련 데이터의 라벨이 정수의 형태로 제공될 때 사용하는 손실함수이다.\n",
    "    from_logits=True, # 기본값은 False이다. 모델에 의해 생성된 출력 값이 정규화되지 않았음을 손실 함수에 알려준다. 즉 softmax함수가 적용되지 않았다는걸 의미한다. \n",
    "    reduction='none'  # 기본값은 SUM이다. 각자 나오는 값의 반환 원할 때 None을 사용한다.\n",
    ")\n",
    "# 모델을 학습시키키 위한 학습과정을 설정하는 단계이다.\n",
    "model.compile(loss=loss, optimizer=optimizer) # 손실함수와 훈련과정을 설정했다.\n",
    "model.fit(dataset, epochs=30) # 만들어둔 데이터셋으로 모델을 학습한다. 30번 학습을 반복하겠다는 의미다."
   ]
  },
  {
   "cell_type": "markdown",
   "id": "6a6db361",
   "metadata": {},
   "source": [
    "# Step 5. 인공지능 만들기\n",
    "모델의 Embedding Size와 Hidden Size를 조절하며 10 Epoch 안에 val_loss 값을 2.2 수준으로 줄일 수 있는 모델을 설계하세요!\n",
    "\n",
    "잘 설계한 모델을 학습하려면, model.fit() 함수를 사용해야 합니다. model.fit() 함수에는 다양한 인자를 넣어주어야 하는데, 가장 기본적인 인자로는 데이터셋과 epochs가 있습니다. '5. 실습 (2) 인공지능 학습시키기'에서의 예시와 같이 말이죠.\n",
    "\n",
    "model.fit(dataset, epochs=30)\n",
    "\n",
    "하지만 model.fit() 함수의 epochs를 아무리 크게 넣는다 해도 val_loss 값은 2.2 아래로 떨어지지 않습니다. 이럴 경우는 batch size를 변경하는 것과 같이 model.fit() 함수에 다양한 인자를 넣어주면 해결될 수도 있습니다. 자세한 내용은 https://www.tensorflow.org/api_docs/python/tf/keras/Model#fit 를 참고하세요!\n",
    "\n",
    "Loss는 아래 제시된 Loss 함수를 그대로 사용하세요!"
   ]
  },
  {
   "cell_type": "code",
   "execution_count": 16,
   "id": "bd4c352b",
   "metadata": {},
   "outputs": [
    {
     "ename": "NameError",
     "evalue": "name 'tf' is not defined",
     "output_type": "error",
     "traceback": [
      "\u001b[0;31m---------------------------------------------------------------------------\u001b[0m",
      "\u001b[0;31mNameError\u001b[0m                                 Traceback (most recent call last)",
      "\u001b[0;32m/tmp/ipykernel_53/1423322506.py\u001b[0m in \u001b[0;36m<module>\u001b[0;34m\u001b[0m\n\u001b[1;32m      1\u001b[0m \u001b[0;31m#Loss\u001b[0m\u001b[0;34m\u001b[0m\u001b[0;34m\u001b[0m\u001b[0m\n\u001b[1;32m      2\u001b[0m \u001b[0;31m# tf.keras.losses.SparseCategoricalCrossentropy : https://www.tensorflow.org/api_docs/python/tf/keras/losses/SparseCategoricalCrossentropy\u001b[0m\u001b[0;34m\u001b[0m\u001b[0;34m\u001b[0m\u001b[0m\n\u001b[0;32m----> 3\u001b[0;31m loss = tf.keras.losses.SparseCategoricalCrossentropy( \n\u001b[0m\u001b[1;32m      4\u001b[0m     from_logits=True, reduction='none') # 클래스 분류 문제에서 softmax 함수를 거치면 from_logits = False(default값),그렇지 않으면 from_logits = True.\n",
      "\u001b[0;31mNameError\u001b[0m: name 'tf' is not defined"
     ]
    }
   ],
   "source": [
    "#Loss\n",
    "# tf.keras.losses.SparseCategoricalCrossentropy : https://www.tensorflow.org/api_docs/python/tf/keras/losses/SparseCategoricalCrossentropy\n",
    "loss = tf.keras.losses.SparseCategoricalCrossentropy( \n",
    "    from_logits=True, reduction='none') # 클래스 분류 문제에서 softmax 함수를 거치면 from_logits = False(default값),그렇지 않으면 from_logits = True."
   ]
  },
  {
   "cell_type": "markdown",
   "id": "96c57746",
   "metadata": {},
   "source": [
    "데이터가 커서 훈련하는 데 시간이 제법 걸릴 겁니다.(한 epoch 당 3 분 이상) 여유를 가지고 작업하시면 좋아요 :)\n",
    "\n",
    "마지막으로 멋진 모델이 생성한 가사 한 줄을 제출하시길 바랍니다!"
   ]
  },
  {
   "cell_type": "code",
   "execution_count": 17,
   "id": "28ab976a",
   "metadata": {},
   "outputs": [
    {
     "ename": "NameError",
     "evalue": "name 'generate_text' is not defined",
     "output_type": "error",
     "traceback": [
      "\u001b[0;31m---------------------------------------------------------------------------\u001b[0m",
      "\u001b[0;31mNameError\u001b[0m                                 Traceback (most recent call last)",
      "\u001b[0;32m/tmp/ipykernel_53/2127978894.py\u001b[0m in \u001b[0;36m<module>\u001b[0;34m\u001b[0m\n\u001b[0;32m----> 1\u001b[0;31m \u001b[0mgenerate_text\u001b[0m\u001b[0;34m(\u001b[0m\u001b[0mlyricist\u001b[0m\u001b[0;34m,\u001b[0m \u001b[0mtokenizer\u001b[0m\u001b[0;34m,\u001b[0m \u001b[0minit_sentence\u001b[0m\u001b[0;34m=\u001b[0m\u001b[0;34m\"<start> i love\"\u001b[0m\u001b[0;34m,\u001b[0m \u001b[0mmax_len\u001b[0m\u001b[0;34m=\u001b[0m\u001b[0;36m20\u001b[0m\u001b[0;34m)\u001b[0m\u001b[0;34m\u001b[0m\u001b[0;34m\u001b[0m\u001b[0m\n\u001b[0m\u001b[1;32m      2\u001b[0m \u001b[0;31m# generate_text 함수에 lyricist 라 정의한 모델을 이용해서 ilove 로 시작되는 문장을 생성\u001b[0m\u001b[0;34m\u001b[0m\u001b[0;34m\u001b[0m\u001b[0m\n",
      "\u001b[0;31mNameError\u001b[0m: name 'generate_text' is not defined"
     ]
    }
   ],
   "source": [
    "generate_text(lyricist, tokenizer, init_sentence=\"<start> i love\", max_len=20)\n",
    "# generate_text 함수에 lyricist 라 정의한 모델을 이용해서 ilove 로 시작되는 문장을 생성"
   ]
  },
  {
   "cell_type": "markdown",
   "id": "d2f02ab4",
   "metadata": {},
   "source": [
    "Q4. 모델이 생성한 가사 한 줄을 제출하세요.\n",
    "\n"
   ]
  }
 ],
 "metadata": {
  "kernelspec": {
   "display_name": "Python 3 (ipykernel)",
   "language": "python",
   "name": "python3"
  },
  "language_info": {
   "codemirror_mode": {
    "name": "ipython",
    "version": 3
   },
   "file_extension": ".py",
   "mimetype": "text/x-python",
   "name": "python",
   "nbconvert_exporter": "python",
   "pygments_lexer": "ipython3",
   "version": "3.9.7"
  }
 },
 "nbformat": 4,
 "nbformat_minor": 5
}
