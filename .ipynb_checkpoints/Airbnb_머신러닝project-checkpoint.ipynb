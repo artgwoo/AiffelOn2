{
 "cells": [
  {
   "cell_type": "markdown",
   "id": "ba8b7896",
   "metadata": {},
   "source": [
    "## Airbnb (New York City)\n",
    "- 미국 NYC Airbnb 목록(2019)\n",
    "- 프로젝트 목적: 가격 예측(price)\n",
    "- 제공 데이터(3개): train.csv, test.csv, y_test(최종 채점용)\n",
    "- 평가 방식: MSE (평균제곱오차/ 실제 값과 예측 값 차이 ->제곱해 평균)\n",
    "- <참고> : 6. 지도학습(회귀) 노드의 6-8. 평가(회귀) 스텝에서 복습하실 수 있습니다.\n",
    "- 데이터 출처 바로가기 / License CC0: Public Domain\n",
    "\n",
    "\n",
    "MSE 51,000\n",
    "MSE 42,000\n",
    "\n",
    "\n",
    "데이터출처 : https://www.kaggle.com/datasets/dgomonov/new-york-city-airbnb-open-data\n"
   ]
  },
  {
   "cell_type": "markdown",
   "id": "97c61a50",
   "metadata": {},
   "source": [
    "## 1. Baseline\n",
    "\n",
    "라이브러리와 데이터 불러오기"
   ]
  },
  {
   "cell_type": "code",
   "execution_count": 257,
   "id": "18e3bd29",
   "metadata": {},
   "outputs": [],
   "source": [
    "# 라이브러리 \n",
    "import pandas as pd\n",
    "\n",
    "# 데이터 불러오기\n",
    "train = pd.read_csv('/aiffel/data/train.csv')\n",
    "test = pd.read_csv('/aiffel/data/test.csv')"
   ]
  },
  {
   "cell_type": "markdown",
   "id": "900956de",
   "metadata": {},
   "source": [
    "## 2. EDA(탐색적 테이터 분석)"
   ]
  },
  {
   "cell_type": "code",
   "execution_count": 258,
   "id": "612199fc",
   "metadata": {},
   "outputs": [
    {
     "data": {
      "text/plain": [
       "((39116, 16), (9779, 15))"
      ]
     },
     "execution_count": 258,
     "metadata": {},
     "output_type": "execute_result"
    }
   ],
   "source": [
    "# 데이터 크기\n",
    "train.shape, test.shape"
   ]
  },
  {
   "cell_type": "code",
   "execution_count": 259,
   "id": "03a9ada7",
   "metadata": {},
   "outputs": [
    {
     "data": {
      "text/html": [
       "<div>\n",
       "<style scoped>\n",
       "    .dataframe tbody tr th:only-of-type {\n",
       "        vertical-align: middle;\n",
       "    }\n",
       "\n",
       "    .dataframe tbody tr th {\n",
       "        vertical-align: top;\n",
       "    }\n",
       "\n",
       "    .dataframe thead th {\n",
       "        text-align: right;\n",
       "    }\n",
       "</style>\n",
       "<table border=\"1\" class=\"dataframe\">\n",
       "  <thead>\n",
       "    <tr style=\"text-align: right;\">\n",
       "      <th></th>\n",
       "      <th>id</th>\n",
       "      <th>name</th>\n",
       "      <th>host_id</th>\n",
       "      <th>host_name</th>\n",
       "      <th>neighbourhood_group</th>\n",
       "      <th>neighbourhood</th>\n",
       "      <th>latitude</th>\n",
       "      <th>longitude</th>\n",
       "      <th>room_type</th>\n",
       "      <th>price</th>\n",
       "      <th>minimum_nights</th>\n",
       "      <th>number_of_reviews</th>\n",
       "      <th>last_review</th>\n",
       "      <th>reviews_per_month</th>\n",
       "      <th>calculated_host_listings_count</th>\n",
       "      <th>availability_365</th>\n",
       "    </tr>\n",
       "  </thead>\n",
       "  <tbody>\n",
       "    <tr>\n",
       "      <th>0</th>\n",
       "      <td>14963583</td>\n",
       "      <td>Room in South Harlem near Central Park</td>\n",
       "      <td>94219511</td>\n",
       "      <td>Gilles</td>\n",
       "      <td>Manhattan</td>\n",
       "      <td>Harlem</td>\n",
       "      <td>40.80167</td>\n",
       "      <td>-73.95781</td>\n",
       "      <td>Private room</td>\n",
       "      <td>70</td>\n",
       "      <td>3</td>\n",
       "      <td>3</td>\n",
       "      <td>2019-01-01</td>\n",
       "      <td>0.09</td>\n",
       "      <td>2</td>\n",
       "      <td>0</td>\n",
       "    </tr>\n",
       "    <tr>\n",
       "      <th>1</th>\n",
       "      <td>9458704</td>\n",
       "      <td>Large 1BR Apartment, near Times Sq (2nd Floor)</td>\n",
       "      <td>49015331</td>\n",
       "      <td>Iradj</td>\n",
       "      <td>Manhattan</td>\n",
       "      <td>Hell's Kitchen</td>\n",
       "      <td>40.76037</td>\n",
       "      <td>-73.99016</td>\n",
       "      <td>Entire home/apt</td>\n",
       "      <td>240</td>\n",
       "      <td>2</td>\n",
       "      <td>64</td>\n",
       "      <td>2019-06-30</td>\n",
       "      <td>1.68</td>\n",
       "      <td>2</td>\n",
       "      <td>262</td>\n",
       "    </tr>\n",
       "  </tbody>\n",
       "</table>\n",
       "</div>"
      ],
      "text/plain": [
       "         id                                            name   host_id  \\\n",
       "0  14963583          Room in South Harlem near Central Park  94219511   \n",
       "1   9458704  Large 1BR Apartment, near Times Sq (2nd Floor)  49015331   \n",
       "\n",
       "  host_name neighbourhood_group   neighbourhood  latitude  longitude  \\\n",
       "0    Gilles           Manhattan          Harlem  40.80167  -73.95781   \n",
       "1     Iradj           Manhattan  Hell's Kitchen  40.76037  -73.99016   \n",
       "\n",
       "         room_type  price  minimum_nights  number_of_reviews last_review  \\\n",
       "0     Private room     70               3                  3  2019-01-01   \n",
       "1  Entire home/apt    240               2                 64  2019-06-30   \n",
       "\n",
       "   reviews_per_month  calculated_host_listings_count  availability_365  \n",
       "0               0.09                               2                 0  \n",
       "1               1.68                               2               262  "
      ]
     },
     "metadata": {},
     "output_type": "display_data"
    },
    {
     "data": {
      "text/html": [
       "<div>\n",
       "<style scoped>\n",
       "    .dataframe tbody tr th:only-of-type {\n",
       "        vertical-align: middle;\n",
       "    }\n",
       "\n",
       "    .dataframe tbody tr th {\n",
       "        vertical-align: top;\n",
       "    }\n",
       "\n",
       "    .dataframe thead th {\n",
       "        text-align: right;\n",
       "    }\n",
       "</style>\n",
       "<table border=\"1\" class=\"dataframe\">\n",
       "  <thead>\n",
       "    <tr style=\"text-align: right;\">\n",
       "      <th></th>\n",
       "      <th>id</th>\n",
       "      <th>name</th>\n",
       "      <th>host_id</th>\n",
       "      <th>host_name</th>\n",
       "      <th>neighbourhood_group</th>\n",
       "      <th>neighbourhood</th>\n",
       "      <th>latitude</th>\n",
       "      <th>longitude</th>\n",
       "      <th>room_type</th>\n",
       "      <th>minimum_nights</th>\n",
       "      <th>number_of_reviews</th>\n",
       "      <th>last_review</th>\n",
       "      <th>reviews_per_month</th>\n",
       "      <th>calculated_host_listings_count</th>\n",
       "      <th>availability_365</th>\n",
       "    </tr>\n",
       "  </thead>\n",
       "  <tbody>\n",
       "    <tr>\n",
       "      <th>0</th>\n",
       "      <td>30913224</td>\n",
       "      <td>Cozy and Sunny Room Williamsburg, Luxury Building</td>\n",
       "      <td>33771081</td>\n",
       "      <td>Rémy</td>\n",
       "      <td>Brooklyn</td>\n",
       "      <td>Williamsburg</td>\n",
       "      <td>40.70959</td>\n",
       "      <td>-73.94652</td>\n",
       "      <td>Private room</td>\n",
       "      <td>3</td>\n",
       "      <td>2</td>\n",
       "      <td>2019-05-08</td>\n",
       "      <td>0.31</td>\n",
       "      <td>1</td>\n",
       "      <td>0</td>\n",
       "    </tr>\n",
       "    <tr>\n",
       "      <th>1</th>\n",
       "      <td>971247</td>\n",
       "      <td>Sunny Artist Live/Work Apartment</td>\n",
       "      <td>5308961</td>\n",
       "      <td>Larry</td>\n",
       "      <td>Manhattan</td>\n",
       "      <td>Upper West Side</td>\n",
       "      <td>40.79368</td>\n",
       "      <td>-73.96487</td>\n",
       "      <td>Entire home/apt</td>\n",
       "      <td>3</td>\n",
       "      <td>159</td>\n",
       "      <td>2019-07-03</td>\n",
       "      <td>2.09</td>\n",
       "      <td>1</td>\n",
       "      <td>244</td>\n",
       "    </tr>\n",
       "  </tbody>\n",
       "</table>\n",
       "</div>"
      ],
      "text/plain": [
       "         id                                               name   host_id  \\\n",
       "0  30913224  Cozy and Sunny Room Williamsburg, Luxury Building  33771081   \n",
       "1    971247                   Sunny Artist Live/Work Apartment   5308961   \n",
       "\n",
       "  host_name neighbourhood_group    neighbourhood  latitude  longitude  \\\n",
       "0      Rémy            Brooklyn     Williamsburg  40.70959  -73.94652   \n",
       "1     Larry           Manhattan  Upper West Side  40.79368  -73.96487   \n",
       "\n",
       "         room_type  minimum_nights  number_of_reviews last_review  \\\n",
       "0     Private room               3                  2  2019-05-08   \n",
       "1  Entire home/apt               3                159  2019-07-03   \n",
       "\n",
       "   reviews_per_month  calculated_host_listings_count  availability_365  \n",
       "0               0.31                               1                 0  \n",
       "1               2.09                               1               244  "
      ]
     },
     "metadata": {},
     "output_type": "display_data"
    }
   ],
   "source": [
    "# 데이터 샘플\n",
    "display(train.head(2))\n",
    "display(test.head(2))\n"
   ]
  },
  {
   "cell_type": "code",
   "execution_count": 260,
   "id": "bd333ade",
   "metadata": {},
   "outputs": [
    {
     "name": "stdout",
     "output_type": "stream",
     "text": [
      "<class 'pandas.core.frame.DataFrame'>\n",
      "RangeIndex: 39116 entries, 0 to 39115\n",
      "Data columns (total 16 columns):\n",
      " #   Column                          Non-Null Count  Dtype  \n",
      "---  ------                          --------------  -----  \n",
      " 0   id                              39116 non-null  int64  \n",
      " 1   name                            39104 non-null  object \n",
      " 2   host_id                         39116 non-null  int64  \n",
      " 3   host_name                       39099 non-null  object \n",
      " 4   neighbourhood_group             39116 non-null  object \n",
      " 5   neighbourhood                   39116 non-null  object \n",
      " 6   latitude                        39116 non-null  float64\n",
      " 7   longitude                       39116 non-null  float64\n",
      " 8   room_type                       39116 non-null  object \n",
      " 9   price                           39116 non-null  int64  \n",
      " 10  minimum_nights                  39116 non-null  int64  \n",
      " 11  number_of_reviews               39116 non-null  int64  \n",
      " 12  last_review                     31122 non-null  object \n",
      " 13  reviews_per_month               31122 non-null  float64\n",
      " 14  calculated_host_listings_count  39116 non-null  int64  \n",
      " 15  availability_365                39116 non-null  int64  \n",
      "dtypes: float64(3), int64(7), object(6)\n",
      "memory usage: 4.8+ MB\n"
     ]
    }
   ],
   "source": [
    "# 데이터 타입\n",
    "train.info()"
   ]
  },
  {
   "cell_type": "code",
   "execution_count": 261,
   "id": "6cfc6891",
   "metadata": {},
   "outputs": [
    {
     "data": {
      "text/plain": [
       "id                                   0\n",
       "name                                12\n",
       "host_id                              0\n",
       "host_name                           17\n",
       "neighbourhood_group                  0\n",
       "neighbourhood                        0\n",
       "latitude                             0\n",
       "longitude                            0\n",
       "room_type                            0\n",
       "price                                0\n",
       "minimum_nights                       0\n",
       "number_of_reviews                    0\n",
       "last_review                       7994\n",
       "reviews_per_month                 7994\n",
       "calculated_host_listings_count       0\n",
       "availability_365                     0\n",
       "dtype: int64"
      ]
     },
     "execution_count": 261,
     "metadata": {},
     "output_type": "execute_result"
    }
   ],
   "source": [
    "# 결측치(train)\n",
    "train.isnull().sum()"
   ]
  },
  {
   "cell_type": "code",
   "execution_count": 262,
   "id": "d11bae1d",
   "metadata": {},
   "outputs": [
    {
     "data": {
      "text/plain": [
       "id                                   0\n",
       "name                                 4\n",
       "host_id                              0\n",
       "host_name                            4\n",
       "neighbourhood_group                  0\n",
       "neighbourhood                        0\n",
       "latitude                             0\n",
       "longitude                            0\n",
       "room_type                            0\n",
       "minimum_nights                       0\n",
       "number_of_reviews                    0\n",
       "last_review                       2058\n",
       "reviews_per_month                 2058\n",
       "calculated_host_listings_count       0\n",
       "availability_365                     0\n",
       "dtype: int64"
      ]
     },
     "execution_count": 262,
     "metadata": {},
     "output_type": "execute_result"
    }
   ],
   "source": [
    "# 결측치(test)\n",
    "test.isnull().sum()"
   ]
  },
  {
   "cell_type": "code",
   "execution_count": 263,
   "id": "3b03bad9",
   "metadata": {},
   "outputs": [
    {
     "data": {
      "text/plain": [
       "<AxesSubplot:>"
      ]
     },
     "execution_count": 263,
     "metadata": {},
     "output_type": "execute_result"
    },
    {
     "data": {
      "image/png": "[encoded data removed]",
      "text/plain": [
       "<Figure size 432x288 with 1 Axes>"
      ]
     },
     "metadata": {
      "needs_background": "light"
     },
     "output_type": "display_data"
    }
   ],
   "source": [
    "# target(hist)\n",
    "train['price'].hist(bins=100)"
   ]
  },
  {
   "cell_type": "code",
   "execution_count": 264,
   "id": "a2d44361",
   "metadata": {
    "scrolled": true
   },
   "outputs": [
    {
     "data": {
      "text/plain": [
       "count    39116.000000\n",
       "mean       152.751150\n",
       "std        241.752501\n",
       "min          0.000000\n",
       "25%         69.000000\n",
       "50%        105.000000\n",
       "75%        175.000000\n",
       "max      10000.000000\n",
       "Name: price, dtype: float64"
      ]
     },
     "execution_count": 264,
     "metadata": {},
     "output_type": "execute_result"
    }
   ],
   "source": [
    "# target(describe)\n",
    "train['price'].describe()"
   ]
  },
  {
   "cell_type": "code",
   "execution_count": 265,
   "id": "bebae3e6",
   "metadata": {
    "scrolled": true
   },
   "outputs": [
    {
     "data": {
      "text/plain": [
       "219517861    256\n",
       "107434423    181\n",
       "30283594      99\n",
       "137358866     82\n",
       "12243051      80\n",
       "            ... \n",
       "73369106       1\n",
       "26620387       1\n",
       "176660539      1\n",
       "26004891       1\n",
       "2609535        1\n",
       "Name: host_id, Length: 30845, dtype: int64"
      ]
     },
     "execution_count": 265,
     "metadata": {},
     "output_type": "execute_result"
    }
   ],
   "source": [
    "# 피처(host_id)\n",
    "train['host_id'].value_counts()"
   ]
  },
  {
   "cell_type": "markdown",
   "id": "2f1c5408",
   "metadata": {},
   "source": [
    "## 3. 데이터 전처리"
   ]
  },
  {
   "cell_type": "code",
   "execution_count": 266,
   "id": "d89064fa",
   "metadata": {},
   "outputs": [],
   "source": [
    "# 결측치 컬럼 삭제 (last_review)\n",
    "train = train.drop('last_review', axis=1)\n",
    "test = test.drop('last_review', axis=1)"
   ]
  },
  {
   "cell_type": "code",
   "execution_count": 267,
   "id": "15a1b1b5",
   "metadata": {},
   "outputs": [],
   "source": [
    "# 결측치 채우기\n",
    "train['reviews_per_month'] = train['reviews_per_month'].fillna(0)\n",
    "test['reviews_per_month'] = test['reviews_per_month'].fillna(0)"
   ]
  },
  {
   "cell_type": "code",
   "execution_count": 268,
   "id": "3b3f5f27",
   "metadata": {},
   "outputs": [
    {
     "data": {
      "text/plain": [
       "id                                 0\n",
       "name                              12\n",
       "host_id                            0\n",
       "host_name                         17\n",
       "neighbourhood_group                0\n",
       "neighbourhood                      0\n",
       "latitude                           0\n",
       "longitude                          0\n",
       "room_type                          0\n",
       "price                              0\n",
       "minimum_nights                     0\n",
       "number_of_reviews                  0\n",
       "reviews_per_month                  0\n",
       "calculated_host_listings_count     0\n",
       "availability_365                   0\n",
       "dtype: int64"
      ]
     },
     "execution_count": 268,
     "metadata": {},
     "output_type": "execute_result"
    }
   ],
   "source": [
    "# 결측치 확인\n",
    "train.isnull().sum()"
   ]
  },
  {
   "cell_type": "code",
   "execution_count": 269,
   "id": "4db28174",
   "metadata": {},
   "outputs": [],
   "source": [
    "# 가격 값 복사\n",
    "target = train['price']\n",
    "train = train.drop('price', axis=1)"
   ]
  },
  {
   "cell_type": "code",
   "execution_count": 270,
   "id": "88036ac3",
   "metadata": {},
   "outputs": [],
   "source": [
    "# 수치형 피처 선택\n",
    "cols = [\n",
    "        'host_id',\n",
    "        'latitude', \n",
    "        'longitude', \n",
    "        'minimum_nights',\n",
    "        'number_of_reviews', \n",
    "        'reviews_per_month',\n",
    "        'calculated_host_listings_count',\n",
    "        'availability_365'\n",
    "        ]\n",
    "\n",
    "train = train[cols]\n",
    "test = test[cols]"
   ]
  },
  {
   "cell_type": "markdown",
   "id": "5bac50bf",
   "metadata": {},
   "source": [
    "## 4. 검증 데이터 분리"
   ]
  },
  {
   "cell_type": "code",
   "execution_count": 271,
   "id": "6a944682",
   "metadata": {},
   "outputs": [
    {
     "data": {
      "text/plain": [
       "((31292, 8), (7824, 8), (31292,), (7824,))"
      ]
     },
     "execution_count": 271,
     "metadata": {},
     "output_type": "execute_result"
    }
   ],
   "source": [
    "# 검증 데이터 분리\n",
    "from sklearn.model_selection import train_test_split\n",
    "\n",
    "X_train, X_val, y_train, y_val = train_test_split(train, target, test_size=0.2, random_state=2022)\n",
    "X_train.shape, X_val.shape, y_train.shape, y_val.shape"
   ]
  },
  {
   "cell_type": "markdown",
   "id": "75cf8c8d",
   "metadata": {},
   "source": [
    "## 5. 머신러닝"
   ]
  },
  {
   "cell_type": "code",
   "execution_count": 272,
   "id": "5698870d",
   "metadata": {},
   "outputs": [
    {
     "data": {
      "text/plain": [
       "32000.4623726053"
      ]
     },
     "execution_count": 272,
     "metadata": {},
     "output_type": "execute_result"
    }
   ],
   "source": [
    "# 머신러닝(회귀)\n",
    "from sklearn.linear_model import LinearRegression\n",
    "from sklearn.metrics import mean_squared_error\n",
    "\n",
    "model = LinearRegression()\n",
    "model.fit(X_train, y_train)\n",
    "pred = model.predict(X_val)\n",
    "mean_squared_error(y_val, pred)"
   ]
  },
  {
   "cell_type": "code",
   "execution_count": 273,
   "id": "15a3d8dc",
   "metadata": {},
   "outputs": [
    {
     "name": "stderr",
     "output_type": "stream",
     "text": [
      "/opt/conda/lib/python3.9/site-packages/sklearn/linear_model/_ridge.py:156: LinAlgWarning: Ill-conditioned matrix (rcond=3.06762e-19): result may not be accurate.\n",
      "  return linalg.solve(A, Xy, sym_pos=True, overwrite_a=True).T\n"
     ]
    },
    {
     "data": {
      "text/plain": [
       "32002.921365825365"
      ]
     },
     "execution_count": 273,
     "metadata": {},
     "output_type": "execute_result"
    }
   ],
   "source": [
    "# 릿지 회귀\n",
    "from sklearn.linear_model import Ridge\n",
    "\n",
    "model = Ridge()\n",
    "model.fit(X_train, y_train)\n",
    "pred = model.predict(X_val)\n",
    "mean_squared_error(y_val, pred)"
   ]
  },
  {
   "cell_type": "code",
   "execution_count": 274,
   "id": "cab55c67",
   "metadata": {},
   "outputs": [
    {
     "data": {
      "text/plain": [
       "32695.606216284894"
      ]
     },
     "execution_count": 274,
     "metadata": {},
     "output_type": "execute_result"
    }
   ],
   "source": [
    "# 라쏘 회귀\n",
    "from sklearn.linear_model import Lasso\n",
    "\n",
    "model = Lasso()\n",
    "model.fit(X_train, y_train)\n",
    "pred = model.predict(X_val)\n",
    "mean_squared_error(y_val, pred)"
   ]
  },
  {
   "cell_type": "code",
   "execution_count": 275,
   "id": "37dce7db",
   "metadata": {},
   "outputs": [
    {
     "data": {
      "text/plain": [
       "33521.06875602843"
      ]
     },
     "execution_count": 275,
     "metadata": {},
     "output_type": "execute_result"
    }
   ],
   "source": [
    "# 엘라스틱넷 회귀\n",
    "from sklearn.linear_model import ElasticNet\n",
    "\n",
    "model = ElasticNet()\n",
    "model.fit(X_train, y_train)\n",
    "pred = model.predict(X_val)\n",
    "mean_squared_error(y_val, pred)"
   ]
  },
  {
   "cell_type": "code",
   "execution_count": 276,
   "id": "56eaea7b",
   "metadata": {},
   "outputs": [
    {
     "data": {
      "text/plain": [
       "31446.66249631902"
      ]
     },
     "execution_count": 276,
     "metadata": {},
     "output_type": "execute_result"
    }
   ],
   "source": [
    "# 랜덤포레스트\n",
    "from sklearn.ensemble import RandomForestRegressor\n",
    "\n",
    "model = RandomForestRegressor(random_state=2022)\n",
    "model.fit(X_train, y_train)\n",
    "pred = model.predict(X_val)\n",
    "mean_squared_error(y_val, pred)"
   ]
  },
  {
   "cell_type": "code",
   "execution_count": 277,
   "id": "bf23c408",
   "metadata": {},
   "outputs": [
    {
     "data": {
      "text/plain": [
       "31838.531510528188"
      ]
     },
     "execution_count": 277,
     "metadata": {},
     "output_type": "execute_result"
    }
   ],
   "source": [
    "# Xgboost\n",
    "from xgboost import XGBRegressor\n",
    "model = XGBRegressor(random_state=2022)\n",
    "\n",
    "model.fit(X_train, y_train)\n",
    "pred = model.predict(X_val)\n",
    "mean_squared_error(y_val, pred)"
   ]
  },
  {
   "cell_type": "markdown",
   "id": "7fc2ed28",
   "metadata": {},
   "source": [
    "## 6. 채점\n"
   ]
  },
  {
   "cell_type": "code",
   "execution_count": 278,
   "id": "ae18377f",
   "metadata": {},
   "outputs": [
    {
     "data": {
      "text/plain": [
       "51046.25646764309"
      ]
     },
     "execution_count": 278,
     "metadata": {},
     "output_type": "execute_result"
    }
   ],
   "source": [
    "# test 데이터 예측 및 평가\n",
    "y_test = pd.read_csv('/aiffel/data/y_test.csv')\n",
    "\n",
    "# Xgboost\n",
    "pred = model.predict(test)\n",
    "mean_squared_error(y_test, pred)"
   ]
  },
  {
   "cell_type": "code",
   "execution_count": 228,
   "id": "a2b47365",
   "metadata": {},
   "outputs": [],
   "source": [
    "# baseline score(mse 51xxx) 보다 점수가 낮게 나오도록 프로젝트 도전\n",
    "\n",
    "# test 데이터 예측 및 평가\n",
    "y_test = pd.read_csv('/aiffel/data/y_test.csv')\n",
    "\n",
    "# Xgboost\n",
    "pred = model.predict(test)\n",
    "mean_squared_error(y_test, pred)\n",
    "\n",
    "\n"
   ]
  },
  {
   "cell_type": "markdown",
   "id": "2e365cc7",
   "metadata": {},
   "source": [
    "## 7. 성능향상 Tip"
   ]
  },
  {
   "cell_type": "code",
   "execution_count": 229,
   "id": "2f64592a",
   "metadata": {},
   "outputs": [],
   "source": [
    "#라이브러리\n",
    "import pandas as pd"
   ]
  },
  {
   "cell_type": "code",
   "execution_count": 230,
   "id": "338185b6",
   "metadata": {},
   "outputs": [],
   "source": [
    "# 데이터 불러오기\n",
    "train = pd.read_csv('/aiffel/data/train.csv')\n",
    "test = pd.read_csv('/aiffel/data/test.csv')"
   ]
  },
  {
   "cell_type": "markdown",
   "id": "aa8cdc1b",
   "metadata": {},
   "source": [
    "## EDA\n"
   ]
  },
  {
   "cell_type": "code",
   "execution_count": 231,
   "id": "917c194a",
   "metadata": {},
   "outputs": [
    {
     "data": {
      "text/plain": [
       "((39116, 16), (9779, 15))"
      ]
     },
     "execution_count": 231,
     "metadata": {},
     "output_type": "execute_result"
    }
   ],
   "source": [
    "# 데이터 크기\n",
    "train.shape, test.shape"
   ]
  },
  {
   "cell_type": "code",
   "execution_count": 232,
   "id": "86d243c1",
   "metadata": {},
   "outputs": [
    {
     "data": {
      "text/html": [
       "<div>\n",
       "<style scoped>\n",
       "    .dataframe tbody tr th:only-of-type {\n",
       "        vertical-align: middle;\n",
       "    }\n",
       "\n",
       "    .dataframe tbody tr th {\n",
       "        vertical-align: top;\n",
       "    }\n",
       "\n",
       "    .dataframe thead th {\n",
       "        text-align: right;\n",
       "    }\n",
       "</style>\n",
       "<table border=\"1\" class=\"dataframe\">\n",
       "  <thead>\n",
       "    <tr style=\"text-align: right;\">\n",
       "      <th></th>\n",
       "      <th>id</th>\n",
       "      <th>name</th>\n",
       "      <th>host_id</th>\n",
       "      <th>host_name</th>\n",
       "      <th>neighbourhood_group</th>\n",
       "      <th>neighbourhood</th>\n",
       "      <th>latitude</th>\n",
       "      <th>longitude</th>\n",
       "      <th>room_type</th>\n",
       "      <th>price</th>\n",
       "      <th>minimum_nights</th>\n",
       "      <th>number_of_reviews</th>\n",
       "      <th>last_review</th>\n",
       "      <th>reviews_per_month</th>\n",
       "      <th>calculated_host_listings_count</th>\n",
       "      <th>availability_365</th>\n",
       "    </tr>\n",
       "  </thead>\n",
       "  <tbody>\n",
       "    <tr>\n",
       "      <th>0</th>\n",
       "      <td>14963583</td>\n",
       "      <td>Room in South Harlem near Central Park</td>\n",
       "      <td>94219511</td>\n",
       "      <td>Gilles</td>\n",
       "      <td>Manhattan</td>\n",
       "      <td>Harlem</td>\n",
       "      <td>40.80167</td>\n",
       "      <td>-73.95781</td>\n",
       "      <td>Private room</td>\n",
       "      <td>70</td>\n",
       "      <td>3</td>\n",
       "      <td>3</td>\n",
       "      <td>2019-01-01</td>\n",
       "      <td>0.09</td>\n",
       "      <td>2</td>\n",
       "      <td>0</td>\n",
       "    </tr>\n",
       "    <tr>\n",
       "      <th>1</th>\n",
       "      <td>9458704</td>\n",
       "      <td>Large 1BR Apartment, near Times Sq (2nd Floor)</td>\n",
       "      <td>49015331</td>\n",
       "      <td>Iradj</td>\n",
       "      <td>Manhattan</td>\n",
       "      <td>Hell's Kitchen</td>\n",
       "      <td>40.76037</td>\n",
       "      <td>-73.99016</td>\n",
       "      <td>Entire home/apt</td>\n",
       "      <td>240</td>\n",
       "      <td>2</td>\n",
       "      <td>64</td>\n",
       "      <td>2019-06-30</td>\n",
       "      <td>1.68</td>\n",
       "      <td>2</td>\n",
       "      <td>262</td>\n",
       "    </tr>\n",
       "  </tbody>\n",
       "</table>\n",
       "</div>"
      ],
      "text/plain": [
       "         id                                            name   host_id  \\\n",
       "0  14963583          Room in South Harlem near Central Park  94219511   \n",
       "1   9458704  Large 1BR Apartment, near Times Sq (2nd Floor)  49015331   \n",
       "\n",
       "  host_name neighbourhood_group   neighbourhood  latitude  longitude  \\\n",
       "0    Gilles           Manhattan          Harlem  40.80167  -73.95781   \n",
       "1     Iradj           Manhattan  Hell's Kitchen  40.76037  -73.99016   \n",
       "\n",
       "         room_type  price  minimum_nights  number_of_reviews last_review  \\\n",
       "0     Private room     70               3                  3  2019-01-01   \n",
       "1  Entire home/apt    240               2                 64  2019-06-30   \n",
       "\n",
       "   reviews_per_month  calculated_host_listings_count  availability_365  \n",
       "0               0.09                               2                 0  \n",
       "1               1.68                               2               262  "
      ]
     },
     "metadata": {},
     "output_type": "display_data"
    },
    {
     "data": {
      "text/html": [
       "<div>\n",
       "<style scoped>\n",
       "    .dataframe tbody tr th:only-of-type {\n",
       "        vertical-align: middle;\n",
       "    }\n",
       "\n",
       "    .dataframe tbody tr th {\n",
       "        vertical-align: top;\n",
       "    }\n",
       "\n",
       "    .dataframe thead th {\n",
       "        text-align: right;\n",
       "    }\n",
       "</style>\n",
       "<table border=\"1\" class=\"dataframe\">\n",
       "  <thead>\n",
       "    <tr style=\"text-align: right;\">\n",
       "      <th></th>\n",
       "      <th>id</th>\n",
       "      <th>name</th>\n",
       "      <th>host_id</th>\n",
       "      <th>host_name</th>\n",
       "      <th>neighbourhood_group</th>\n",
       "      <th>neighbourhood</th>\n",
       "      <th>latitude</th>\n",
       "      <th>longitude</th>\n",
       "      <th>room_type</th>\n",
       "      <th>minimum_nights</th>\n",
       "      <th>number_of_reviews</th>\n",
       "      <th>last_review</th>\n",
       "      <th>reviews_per_month</th>\n",
       "      <th>calculated_host_listings_count</th>\n",
       "      <th>availability_365</th>\n",
       "    </tr>\n",
       "  </thead>\n",
       "  <tbody>\n",
       "    <tr>\n",
       "      <th>0</th>\n",
       "      <td>30913224</td>\n",
       "      <td>Cozy and Sunny Room Williamsburg, Luxury Building</td>\n",
       "      <td>33771081</td>\n",
       "      <td>Rémy</td>\n",
       "      <td>Brooklyn</td>\n",
       "      <td>Williamsburg</td>\n",
       "      <td>40.70959</td>\n",
       "      <td>-73.94652</td>\n",
       "      <td>Private room</td>\n",
       "      <td>3</td>\n",
       "      <td>2</td>\n",
       "      <td>2019-05-08</td>\n",
       "      <td>0.31</td>\n",
       "      <td>1</td>\n",
       "      <td>0</td>\n",
       "    </tr>\n",
       "    <tr>\n",
       "      <th>1</th>\n",
       "      <td>971247</td>\n",
       "      <td>Sunny Artist Live/Work Apartment</td>\n",
       "      <td>5308961</td>\n",
       "      <td>Larry</td>\n",
       "      <td>Manhattan</td>\n",
       "      <td>Upper West Side</td>\n",
       "      <td>40.79368</td>\n",
       "      <td>-73.96487</td>\n",
       "      <td>Entire home/apt</td>\n",
       "      <td>3</td>\n",
       "      <td>159</td>\n",
       "      <td>2019-07-03</td>\n",
       "      <td>2.09</td>\n",
       "      <td>1</td>\n",
       "      <td>244</td>\n",
       "    </tr>\n",
       "  </tbody>\n",
       "</table>\n",
       "</div>"
      ],
      "text/plain": [
       "         id                                               name   host_id  \\\n",
       "0  30913224  Cozy and Sunny Room Williamsburg, Luxury Building  33771081   \n",
       "1    971247                   Sunny Artist Live/Work Apartment   5308961   \n",
       "\n",
       "  host_name neighbourhood_group    neighbourhood  latitude  longitude  \\\n",
       "0      Rémy            Brooklyn     Williamsburg  40.70959  -73.94652   \n",
       "1     Larry           Manhattan  Upper West Side  40.79368  -73.96487   \n",
       "\n",
       "         room_type  minimum_nights  number_of_reviews last_review  \\\n",
       "0     Private room               3                  2  2019-05-08   \n",
       "1  Entire home/apt               3                159  2019-07-03   \n",
       "\n",
       "   reviews_per_month  calculated_host_listings_count  availability_365  \n",
       "0               0.31                               1                 0  \n",
       "1               2.09                               1               244  "
      ]
     },
     "metadata": {},
     "output_type": "display_data"
    }
   ],
   "source": [
    "# 데이터 샘플\n",
    "display(train.head(2))\n",
    "display(test.head(2))"
   ]
  },
  {
   "cell_type": "code",
   "execution_count": 233,
   "id": "90ad04b0",
   "metadata": {},
   "outputs": [
    {
     "data": {
      "text/plain": [
       "<AxesSubplot:>"
      ]
     },
     "execution_count": 233,
     "metadata": {},
     "output_type": "execute_result"
    },
    {
     "data": {
      "image/png": "[encoded data removed]",
      "text/plain": [
       "<Figure size 432x288 with 1 Axes>"
      ]
     },
     "metadata": {
      "needs_background": "light"
     },
     "output_type": "display_data"
    }
   ],
   "source": [
    "# target(hist)\n",
    "train['price'].hist(bins=100)"
   ]
  },
  {
   "cell_type": "code",
   "execution_count": 234,
   "id": "0bb1ece7",
   "metadata": {},
   "outputs": [
    {
     "name": "stdout",
     "output_type": "stream",
     "text": [
      "<class 'pandas.core.frame.DataFrame'>\n",
      "RangeIndex: 39116 entries, 0 to 39115\n",
      "Data columns (total 16 columns):\n",
      " #   Column                          Non-Null Count  Dtype  \n",
      "---  ------                          --------------  -----  \n",
      " 0   id                              39116 non-null  int64  \n",
      " 1   name                            39104 non-null  object \n",
      " 2   host_id                         39116 non-null  int64  \n",
      " 3   host_name                       39099 non-null  object \n",
      " 4   neighbourhood_group             39116 non-null  object \n",
      " 5   neighbourhood                   39116 non-null  object \n",
      " 6   latitude                        39116 non-null  float64\n",
      " 7   longitude                       39116 non-null  float64\n",
      " 8   room_type                       39116 non-null  object \n",
      " 9   price                           39116 non-null  int64  \n",
      " 10  minimum_nights                  39116 non-null  int64  \n",
      " 11  number_of_reviews               39116 non-null  int64  \n",
      " 12  last_review                     31122 non-null  object \n",
      " 13  reviews_per_month               31122 non-null  float64\n",
      " 14  calculated_host_listings_count  39116 non-null  int64  \n",
      " 15  availability_365                39116 non-null  int64  \n",
      "dtypes: float64(3), int64(7), object(6)\n",
      "memory usage: 4.8+ MB\n"
     ]
    }
   ],
   "source": [
    "#데이터 타입\n",
    "train.info()"
   ]
  },
  {
   "cell_type": "code",
   "execution_count": 235,
   "id": "fe730177",
   "metadata": {},
   "outputs": [
    {
     "data": {
      "text/plain": [
       "id                                   0\n",
       "name                                12\n",
       "host_id                              0\n",
       "host_name                           17\n",
       "neighbourhood_group                  0\n",
       "neighbourhood                        0\n",
       "latitude                             0\n",
       "longitude                            0\n",
       "room_type                            0\n",
       "price                                0\n",
       "minimum_nights                       0\n",
       "number_of_reviews                    0\n",
       "last_review                       7994\n",
       "reviews_per_month                 7994\n",
       "calculated_host_listings_count       0\n",
       "availability_365                     0\n",
       "dtype: int64"
      ]
     },
     "execution_count": 235,
     "metadata": {},
     "output_type": "execute_result"
    }
   ],
   "source": [
    "# 결측치(train)\n",
    "train.isnull().sum()"
   ]
  },
  {
   "cell_type": "code",
   "execution_count": 236,
   "id": "de0e3720",
   "metadata": {},
   "outputs": [
    {
     "data": {
      "text/plain": [
       "id                                   0\n",
       "name                                 4\n",
       "host_id                              0\n",
       "host_name                            4\n",
       "neighbourhood_group                  0\n",
       "neighbourhood                        0\n",
       "latitude                             0\n",
       "longitude                            0\n",
       "room_type                            0\n",
       "minimum_nights                       0\n",
       "number_of_reviews                    0\n",
       "last_review                       2058\n",
       "reviews_per_month                 2058\n",
       "calculated_host_listings_count       0\n",
       "availability_365                     0\n",
       "dtype: int64"
      ]
     },
     "execution_count": 236,
     "metadata": {},
     "output_type": "execute_result"
    }
   ],
   "source": [
    "#결측치(test)\n",
    "test.isnull().sum()"
   ]
  },
  {
   "cell_type": "code",
   "execution_count": 237,
   "id": "02789a14",
   "metadata": {},
   "outputs": [
    {
     "data": {
      "text/plain": [
       "count    39116.000000\n",
       "mean       152.751150\n",
       "std        241.752501\n",
       "min          0.000000\n",
       "25%         69.000000\n",
       "50%        105.000000\n",
       "75%        175.000000\n",
       "max      10000.000000\n",
       "Name: price, dtype: float64"
      ]
     },
     "execution_count": 237,
     "metadata": {},
     "output_type": "execute_result"
    }
   ],
   "source": [
    "#target(describe)\n",
    "train['price'].describe()"
   ]
  },
  {
   "cell_type": "code",
   "execution_count": 238,
   "id": "e1a6e3d1",
   "metadata": {
    "scrolled": true
   },
   "outputs": [
    {
     "data": {
      "text/plain": [
       "219517861    256\n",
       "107434423    181\n",
       "30283594      99\n",
       "137358866     82\n",
       "12243051      80\n",
       "            ... \n",
       "73369106       1\n",
       "26620387       1\n",
       "176660539      1\n",
       "26004891       1\n",
       "2609535        1\n",
       "Name: host_id, Length: 30845, dtype: int64"
      ]
     },
     "execution_count": 238,
     "metadata": {},
     "output_type": "execute_result"
    }
   ],
   "source": [
    "#피처(host_id)\n",
    "train['host_id'].value_counts()"
   ]
  },
  {
   "cell_type": "markdown",
   "id": "53b1d515",
   "metadata": {},
   "source": [
    "## 데이터 전처리"
   ]
  },
  {
   "cell_type": "code",
   "execution_count": 239,
   "id": "122bd352",
   "metadata": {},
   "outputs": [
    {
     "name": "stdout",
     "output_type": "stream",
     "text": [
      "0     70\n",
      "1    240\n",
      "2    150\n",
      "Name: price, dtype: int64\n",
      "0    4.262680\n",
      "1    5.484797\n",
      "2    5.017280\n",
      "Name: price, dtype: float64\n",
      "0     70.0\n",
      "1    240.0\n",
      "2    150.0\n",
      "Name: price, dtype: float64\n"
     ]
    }
   ],
   "source": [
    "#데이터 전처리\n",
    "#로그치완\n",
    "import numpy as np\n",
    "print(train['price'][:3])\n",
    "print(np.log1p(train['price'])[:3])\n",
    "print(np.expm1(np.log1p(train['price'])[:3]))"
   ]
  },
  {
   "cell_type": "code",
   "execution_count": 240,
   "id": "58ec40ef",
   "metadata": {
    "scrolled": true
   },
   "outputs": [
    {
     "data": {
      "text/plain": [
       "<AxesSubplot:>"
      ]
     },
     "execution_count": 240,
     "metadata": {},
     "output_type": "execute_result"
    },
    {
     "data": {
      "image/png": "[encoded data removed]",
      "text/plain": [
       "<Figure size 432x288 with 1 Axes>"
      ]
     },
     "metadata": {
      "needs_background": "light"
     },
     "output_type": "display_data"
    }
   ],
   "source": [
    "train['price'] = np.log1p(train['price'])\n",
    "train['price'].hist(bins=100)"
   ]
  },
  {
   "cell_type": "code",
   "execution_count": 241,
   "id": "abd24672",
   "metadata": {},
   "outputs": [],
   "source": [
    "#결측치 컬럼 삭제(last_review)\n",
    "train = train.drop('last_review', axis=1)\n",
    "test = test.drop('last_review', axis=1)"
   ]
  },
  {
   "cell_type": "code",
   "execution_count": 242,
   "id": "dca60500",
   "metadata": {},
   "outputs": [],
   "source": [
    "#결측치 채우기\n",
    "train['reviews_per_month'] = train['reviews_per_month'].fillna(0)\n",
    "test['reviews_per_month'] = test['reviews_per_month'].fillna(0)"
   ]
  },
  {
   "cell_type": "code",
   "execution_count": 243,
   "id": "2ff80e62",
   "metadata": {},
   "outputs": [
    {
     "data": {
      "text/plain": [
       "id                                 0\n",
       "name                              12\n",
       "host_id                            0\n",
       "host_name                         17\n",
       "neighbourhood_group                0\n",
       "neighbourhood                      0\n",
       "latitude                           0\n",
       "longitude                          0\n",
       "room_type                          0\n",
       "price                              0\n",
       "minimum_nights                     0\n",
       "number_of_reviews                  0\n",
       "reviews_per_month                  0\n",
       "calculated_host_listings_count     0\n",
       "availability_365                   0\n",
       "dtype: int64"
      ]
     },
     "execution_count": 243,
     "metadata": {},
     "output_type": "execute_result"
    }
   ],
   "source": [
    "#결측치 확인\n",
    "train.isnull().sum()"
   ]
  },
  {
   "cell_type": "markdown",
   "id": "8cef434f",
   "metadata": {},
   "source": [
    "- log1p으로 치완\n",
    "- expm1 으로 다시 원래값으로 복귀 가능\n"
   ]
  },
  {
   "cell_type": "code",
   "execution_count": 244,
   "id": "c9e98e63",
   "metadata": {},
   "outputs": [],
   "source": [
    "#가격 값 복사\n",
    "target = train['price']\n",
    "train = train.drop('price', axis=1)"
   ]
  },
  {
   "cell_type": "code",
   "execution_count": 245,
   "id": "662a31ab",
   "metadata": {},
   "outputs": [],
   "source": [
    "#수치형 피처 선택\n",
    "#수치형 데이터와 범주형 데이터 분리\n",
    "n_train = train.select_dtypes(exclude='object').copy()\n",
    "c_train = train.select_dtypes(include='object').copy()\n",
    "n_test = test.select_dtypes(exclude='object').copy()\n",
    "c_test = test.select_dtypes(include='object').copy()"
   ]
  },
  {
   "cell_type": "code",
   "execution_count": 246,
   "id": "59a5b822",
   "metadata": {},
   "outputs": [
    {
     "data": {
      "text/html": [
       "<div>\n",
       "<style scoped>\n",
       "    .dataframe tbody tr th:only-of-type {\n",
       "        vertical-align: middle;\n",
       "    }\n",
       "\n",
       "    .dataframe tbody tr th {\n",
       "        vertical-align: top;\n",
       "    }\n",
       "\n",
       "    .dataframe thead th {\n",
       "        text-align: right;\n",
       "    }\n",
       "</style>\n",
       "<table border=\"1\" class=\"dataframe\">\n",
       "  <thead>\n",
       "    <tr style=\"text-align: right;\">\n",
       "      <th></th>\n",
       "      <th>id</th>\n",
       "      <th>host_id</th>\n",
       "      <th>latitude</th>\n",
       "      <th>longitude</th>\n",
       "      <th>minimum_nights</th>\n",
       "      <th>number_of_reviews</th>\n",
       "      <th>reviews_per_month</th>\n",
       "      <th>calculated_host_listings_count</th>\n",
       "      <th>availability_365</th>\n",
       "    </tr>\n",
       "  </thead>\n",
       "  <tbody>\n",
       "    <tr>\n",
       "      <th>count</th>\n",
       "      <td>3.911600e+04</td>\n",
       "      <td>3.911600e+04</td>\n",
       "      <td>39116.000000</td>\n",
       "      <td>39116.000000</td>\n",
       "      <td>39116.000000</td>\n",
       "      <td>39116.000000</td>\n",
       "      <td>39116.000000</td>\n",
       "      <td>39116.000000</td>\n",
       "      <td>39116.000000</td>\n",
       "    </tr>\n",
       "    <tr>\n",
       "      <th>mean</th>\n",
       "      <td>1.898464e+07</td>\n",
       "      <td>6.774143e+07</td>\n",
       "      <td>40.728848</td>\n",
       "      <td>-73.952125</td>\n",
       "      <td>6.990720</td>\n",
       "      <td>23.272855</td>\n",
       "      <td>1.091963</td>\n",
       "      <td>7.090756</td>\n",
       "      <td>112.980826</td>\n",
       "    </tr>\n",
       "    <tr>\n",
       "      <th>std</th>\n",
       "      <td>1.099302e+07</td>\n",
       "      <td>7.881383e+07</td>\n",
       "      <td>0.054499</td>\n",
       "      <td>0.046354</td>\n",
       "      <td>20.310323</td>\n",
       "      <td>44.589170</td>\n",
       "      <td>1.600772</td>\n",
       "      <td>32.661136</td>\n",
       "      <td>131.674306</td>\n",
       "    </tr>\n",
       "    <tr>\n",
       "      <th>min</th>\n",
       "      <td>2.539000e+03</td>\n",
       "      <td>2.438000e+03</td>\n",
       "      <td>40.499790</td>\n",
       "      <td>-74.244420</td>\n",
       "      <td>1.000000</td>\n",
       "      <td>0.000000</td>\n",
       "      <td>0.000000</td>\n",
       "      <td>1.000000</td>\n",
       "      <td>0.000000</td>\n",
       "    </tr>\n",
       "    <tr>\n",
       "      <th>25%</th>\n",
       "      <td>9.412608e+06</td>\n",
       "      <td>7.834978e+06</td>\n",
       "      <td>40.690038</td>\n",
       "      <td>-73.983190</td>\n",
       "      <td>1.000000</td>\n",
       "      <td>1.000000</td>\n",
       "      <td>0.040000</td>\n",
       "      <td>1.000000</td>\n",
       "      <td>0.000000</td>\n",
       "    </tr>\n",
       "    <tr>\n",
       "      <th>50%</th>\n",
       "      <td>1.963650e+07</td>\n",
       "      <td>3.070949e+07</td>\n",
       "      <td>40.723000</td>\n",
       "      <td>-73.955740</td>\n",
       "      <td>2.000000</td>\n",
       "      <td>5.000000</td>\n",
       "      <td>0.370000</td>\n",
       "      <td>1.000000</td>\n",
       "      <td>45.000000</td>\n",
       "    </tr>\n",
       "    <tr>\n",
       "      <th>75%</th>\n",
       "      <td>2.913445e+07</td>\n",
       "      <td>1.074344e+08</td>\n",
       "      <td>40.762943</td>\n",
       "      <td>-73.936338</td>\n",
       "      <td>5.000000</td>\n",
       "      <td>23.000000</td>\n",
       "      <td>1.590000</td>\n",
       "      <td>2.000000</td>\n",
       "      <td>228.000000</td>\n",
       "    </tr>\n",
       "    <tr>\n",
       "      <th>max</th>\n",
       "      <td>3.648561e+07</td>\n",
       "      <td>2.743213e+08</td>\n",
       "      <td>40.912340</td>\n",
       "      <td>-73.712990</td>\n",
       "      <td>1250.000000</td>\n",
       "      <td>629.000000</td>\n",
       "      <td>58.500000</td>\n",
       "      <td>327.000000</td>\n",
       "      <td>365.000000</td>\n",
       "    </tr>\n",
       "  </tbody>\n",
       "</table>\n",
       "</div>"
      ],
      "text/plain": [
       "                 id       host_id      latitude     longitude  minimum_nights  \\\n",
       "count  3.911600e+04  3.911600e+04  39116.000000  39116.000000    39116.000000   \n",
       "mean   1.898464e+07  6.774143e+07     40.728848    -73.952125        6.990720   \n",
       "std    1.099302e+07  7.881383e+07      0.054499      0.046354       20.310323   \n",
       "min    2.539000e+03  2.438000e+03     40.499790    -74.244420        1.000000   \n",
       "25%    9.412608e+06  7.834978e+06     40.690038    -73.983190        1.000000   \n",
       "50%    1.963650e+07  3.070949e+07     40.723000    -73.955740        2.000000   \n",
       "75%    2.913445e+07  1.074344e+08     40.762943    -73.936338        5.000000   \n",
       "max    3.648561e+07  2.743213e+08     40.912340    -73.712990     1250.000000   \n",
       "\n",
       "       number_of_reviews  reviews_per_month  calculated_host_listings_count  \\\n",
       "count       39116.000000       39116.000000                    39116.000000   \n",
       "mean           23.272855           1.091963                        7.090756   \n",
       "std            44.589170           1.600772                       32.661136   \n",
       "min             0.000000           0.000000                        1.000000   \n",
       "25%             1.000000           0.040000                        1.000000   \n",
       "50%             5.000000           0.370000                        1.000000   \n",
       "75%            23.000000           1.590000                        2.000000   \n",
       "max           629.000000          58.500000                      327.000000   \n",
       "\n",
       "       availability_365  \n",
       "count      39116.000000  \n",
       "mean         112.980826  \n",
       "std          131.674306  \n",
       "min            0.000000  \n",
       "25%            0.000000  \n",
       "50%           45.000000  \n",
       "75%          228.000000  \n",
       "max          365.000000  "
      ]
     },
     "execution_count": 246,
     "metadata": {},
     "output_type": "execute_result"
    }
   ],
   "source": [
    "n_train.describe()"
   ]
  },
  {
   "cell_type": "code",
   "execution_count": 247,
   "id": "19264590",
   "metadata": {},
   "outputs": [
    {
     "data": {
      "text/html": [
       "<div>\n",
       "<style scoped>\n",
       "    .dataframe tbody tr th:only-of-type {\n",
       "        vertical-align: middle;\n",
       "    }\n",
       "\n",
       "    .dataframe tbody tr th {\n",
       "        vertical-align: top;\n",
       "    }\n",
       "\n",
       "    .dataframe thead th {\n",
       "        text-align: right;\n",
       "    }\n",
       "</style>\n",
       "<table border=\"1\" class=\"dataframe\">\n",
       "  <thead>\n",
       "    <tr style=\"text-align: right;\">\n",
       "      <th></th>\n",
       "      <th>id</th>\n",
       "      <th>host_id</th>\n",
       "      <th>latitude</th>\n",
       "      <th>longitude</th>\n",
       "      <th>minimum_nights</th>\n",
       "      <th>number_of_reviews</th>\n",
       "      <th>reviews_per_month</th>\n",
       "      <th>calculated_host_listings_count</th>\n",
       "      <th>availability_365</th>\n",
       "    </tr>\n",
       "  </thead>\n",
       "  <tbody>\n",
       "    <tr>\n",
       "      <th>0</th>\n",
       "      <td>14963583</td>\n",
       "      <td>94219511</td>\n",
       "      <td>40.80167</td>\n",
       "      <td>-73.95781</td>\n",
       "      <td>3</td>\n",
       "      <td>3</td>\n",
       "      <td>0.09</td>\n",
       "      <td>2</td>\n",
       "      <td>0</td>\n",
       "    </tr>\n",
       "  </tbody>\n",
       "</table>\n",
       "</div>"
      ],
      "text/plain": [
       "         id   host_id  latitude  longitude  minimum_nights  number_of_reviews  \\\n",
       "0  14963583  94219511  40.80167  -73.95781               3                  3   \n",
       "\n",
       "   reviews_per_month  calculated_host_listings_count  availability_365  \n",
       "0               0.09                               2                 0  "
      ]
     },
     "metadata": {},
     "output_type": "display_data"
    },
    {
     "data": {
      "text/html": [
       "<div>\n",
       "<style scoped>\n",
       "    .dataframe tbody tr th:only-of-type {\n",
       "        vertical-align: middle;\n",
       "    }\n",
       "\n",
       "    .dataframe tbody tr th {\n",
       "        vertical-align: top;\n",
       "    }\n",
       "\n",
       "    .dataframe thead th {\n",
       "        text-align: right;\n",
       "    }\n",
       "</style>\n",
       "<table border=\"1\" class=\"dataframe\">\n",
       "  <thead>\n",
       "    <tr style=\"text-align: right;\">\n",
       "      <th></th>\n",
       "      <th>id</th>\n",
       "      <th>host_id</th>\n",
       "      <th>latitude</th>\n",
       "      <th>longitude</th>\n",
       "      <th>minimum_nights</th>\n",
       "      <th>number_of_reviews</th>\n",
       "      <th>reviews_per_month</th>\n",
       "      <th>calculated_host_listings_count</th>\n",
       "      <th>availability_365</th>\n",
       "    </tr>\n",
       "  </thead>\n",
       "  <tbody>\n",
       "    <tr>\n",
       "      <th>0</th>\n",
       "      <td>14963583</td>\n",
       "      <td>0.343458</td>\n",
       "      <td>0.731742</td>\n",
       "      <td>0.539318</td>\n",
       "      <td>0.001601</td>\n",
       "      <td>0.004769</td>\n",
       "      <td>0.001538</td>\n",
       "      <td>0.003067</td>\n",
       "      <td>0.0</td>\n",
       "    </tr>\n",
       "  </tbody>\n",
       "</table>\n",
       "</div>"
      ],
      "text/plain": [
       "         id   host_id  latitude  longitude  minimum_nights  number_of_reviews  \\\n",
       "0  14963583  0.343458  0.731742   0.539318        0.001601           0.004769   \n",
       "\n",
       "   reviews_per_month  calculated_host_listings_count  availability_365  \n",
       "0           0.001538                        0.003067               0.0  "
      ]
     },
     "metadata": {},
     "output_type": "display_data"
    }
   ],
   "source": [
    "# 수치형 변수\n",
    "from sklearn.preprocessing import MinMaxScaler\n",
    "scaler = MinMaxScaler()\n",
    "cols =[\n",
    "    'host_id',\n",
    "    'latitude',\n",
    "    'longitude',\n",
    "    'minimum_nights',\n",
    "    'number_of_reviews',\n",
    "    'reviews_per_month',\n",
    "    'calculated_host_listings_count',\n",
    "    'availability_365'\n",
    "]\n",
    "\n",
    "display(n_train.head(1))\n",
    "n_train[cols] = scaler.fit_transform(n_train[cols])\n",
    "n_test[cols] = scaler.transform(n_test[cols])\n",
    "display(n_train.head(1))"
   ]
  },
  {
   "cell_type": "code",
   "execution_count": 248,
   "id": "5c9d38cc",
   "metadata": {},
   "outputs": [],
   "source": [
    "n_train = n_train.drop('id', axis=1)\n",
    "n_test = n_test.drop('id', axis=1)"
   ]
  },
  {
   "cell_type": "code",
   "execution_count": 249,
   "id": "2ee8f277",
   "metadata": {},
   "outputs": [
    {
     "data": {
      "text/html": [
       "<div>\n",
       "<style scoped>\n",
       "    .dataframe tbody tr th:only-of-type {\n",
       "        vertical-align: middle;\n",
       "    }\n",
       "\n",
       "    .dataframe tbody tr th {\n",
       "        vertical-align: top;\n",
       "    }\n",
       "\n",
       "    .dataframe thead th {\n",
       "        text-align: right;\n",
       "    }\n",
       "</style>\n",
       "<table border=\"1\" class=\"dataframe\">\n",
       "  <thead>\n",
       "    <tr style=\"text-align: right;\">\n",
       "      <th></th>\n",
       "      <th>name</th>\n",
       "      <th>host_name</th>\n",
       "      <th>neighbourhood_group</th>\n",
       "      <th>neighbourhood</th>\n",
       "      <th>room_type</th>\n",
       "    </tr>\n",
       "  </thead>\n",
       "  <tbody>\n",
       "    <tr>\n",
       "      <th>0</th>\n",
       "      <td>Room in South Harlem near Central Park</td>\n",
       "      <td>Gilles</td>\n",
       "      <td>Manhattan</td>\n",
       "      <td>Harlem</td>\n",
       "      <td>Private room</td>\n",
       "    </tr>\n",
       "  </tbody>\n",
       "</table>\n",
       "</div>"
      ],
      "text/plain": [
       "                                     name host_name neighbourhood_group  \\\n",
       "0  Room in South Harlem near Central Park    Gilles           Manhattan   \n",
       "\n",
       "  neighbourhood     room_type  \n",
       "0        Harlem  Private room  "
      ]
     },
     "execution_count": 249,
     "metadata": {},
     "output_type": "execute_result"
    }
   ],
   "source": [
    "c_train.head(1)"
   ]
  },
  {
   "cell_type": "code",
   "execution_count": 250,
   "id": "5018514e",
   "metadata": {},
   "outputs": [
    {
     "data": {
      "text/html": [
       "<div>\n",
       "<style scoped>\n",
       "    .dataframe tbody tr th:only-of-type {\n",
       "        vertical-align: middle;\n",
       "    }\n",
       "\n",
       "    .dataframe tbody tr th {\n",
       "        vertical-align: top;\n",
       "    }\n",
       "\n",
       "    .dataframe thead th {\n",
       "        text-align: right;\n",
       "    }\n",
       "</style>\n",
       "<table border=\"1\" class=\"dataframe\">\n",
       "  <thead>\n",
       "    <tr style=\"text-align: right;\">\n",
       "      <th></th>\n",
       "      <th>name</th>\n",
       "      <th>host_name</th>\n",
       "      <th>neighbourhood_group</th>\n",
       "      <th>neighbourhood</th>\n",
       "      <th>room_type</th>\n",
       "    </tr>\n",
       "  </thead>\n",
       "  <tbody>\n",
       "    <tr>\n",
       "      <th>count</th>\n",
       "      <td>39104</td>\n",
       "      <td>39099</td>\n",
       "      <td>39116</td>\n",
       "      <td>39116</td>\n",
       "      <td>39116</td>\n",
       "    </tr>\n",
       "    <tr>\n",
       "      <th>unique</th>\n",
       "      <td>38420</td>\n",
       "      <td>9977</td>\n",
       "      <td>5</td>\n",
       "      <td>221</td>\n",
       "      <td>3</td>\n",
       "    </tr>\n",
       "    <tr>\n",
       "      <th>top</th>\n",
       "      <td>Home away from home</td>\n",
       "      <td>Michael</td>\n",
       "      <td>Manhattan</td>\n",
       "      <td>Williamsburg</td>\n",
       "      <td>Entire home/apt</td>\n",
       "    </tr>\n",
       "    <tr>\n",
       "      <th>freq</th>\n",
       "      <td>15</td>\n",
       "      <td>338</td>\n",
       "      <td>17331</td>\n",
       "      <td>3099</td>\n",
       "      <td>20299</td>\n",
       "    </tr>\n",
       "  </tbody>\n",
       "</table>\n",
       "</div>"
      ],
      "text/plain": [
       "                       name host_name neighbourhood_group neighbourhood  \\\n",
       "count                 39104     39099               39116         39116   \n",
       "unique                38420      9977                   5           221   \n",
       "top     Home away from home   Michael           Manhattan  Williamsburg   \n",
       "freq                     15       338               17331          3099   \n",
       "\n",
       "              room_type  \n",
       "count             39116  \n",
       "unique                3  \n",
       "top     Entire home/apt  \n",
       "freq              20299  "
      ]
     },
     "execution_count": 250,
     "metadata": {},
     "output_type": "execute_result"
    }
   ],
   "source": [
    "c_train.describe()"
   ]
  },
  {
   "cell_type": "code",
   "execution_count": 251,
   "id": "f3f9ba4e",
   "metadata": {},
   "outputs": [
    {
     "data": {
      "text/html": [
       "<div>\n",
       "<style scoped>\n",
       "    .dataframe tbody tr th:only-of-type {\n",
       "        vertical-align: middle;\n",
       "    }\n",
       "\n",
       "    .dataframe tbody tr th {\n",
       "        vertical-align: top;\n",
       "    }\n",
       "\n",
       "    .dataframe thead th {\n",
       "        text-align: right;\n",
       "    }\n",
       "</style>\n",
       "<table border=\"1\" class=\"dataframe\">\n",
       "  <thead>\n",
       "    <tr style=\"text-align: right;\">\n",
       "      <th></th>\n",
       "      <th>name</th>\n",
       "      <th>host_name</th>\n",
       "      <th>neighbourhood_group</th>\n",
       "      <th>neighbourhood</th>\n",
       "      <th>room_type</th>\n",
       "    </tr>\n",
       "  </thead>\n",
       "  <tbody>\n",
       "    <tr>\n",
       "      <th>0</th>\n",
       "      <td>Room in South Harlem near Central Park</td>\n",
       "      <td>Gilles</td>\n",
       "      <td>Manhattan</td>\n",
       "      <td>Harlem</td>\n",
       "      <td>Private room</td>\n",
       "    </tr>\n",
       "  </tbody>\n",
       "</table>\n",
       "</div>"
      ],
      "text/plain": [
       "                                     name host_name neighbourhood_group  \\\n",
       "0  Room in South Harlem near Central Park    Gilles           Manhattan   \n",
       "\n",
       "  neighbourhood     room_type  \n",
       "0        Harlem  Private room  "
      ]
     },
     "metadata": {},
     "output_type": "display_data"
    },
    {
     "data": {
      "text/html": [
       "<div>\n",
       "<style scoped>\n",
       "    .dataframe tbody tr th:only-of-type {\n",
       "        vertical-align: middle;\n",
       "    }\n",
       "\n",
       "    .dataframe tbody tr th {\n",
       "        vertical-align: top;\n",
       "    }\n",
       "\n",
       "    .dataframe thead th {\n",
       "        text-align: right;\n",
       "    }\n",
       "</style>\n",
       "<table border=\"1\" class=\"dataframe\">\n",
       "  <thead>\n",
       "    <tr style=\"text-align: right;\">\n",
       "      <th></th>\n",
       "      <th>name</th>\n",
       "      <th>host_name</th>\n",
       "      <th>neighbourhood_group</th>\n",
       "      <th>neighbourhood</th>\n",
       "      <th>room_type</th>\n",
       "    </tr>\n",
       "  </thead>\n",
       "  <tbody>\n",
       "    <tr>\n",
       "      <th>0</th>\n",
       "      <td>Room in South Harlem near Central Park</td>\n",
       "      <td>Gilles</td>\n",
       "      <td>2</td>\n",
       "      <td>94</td>\n",
       "      <td>1</td>\n",
       "    </tr>\n",
       "  </tbody>\n",
       "</table>\n",
       "</div>"
      ],
      "text/plain": [
       "                                     name host_name  neighbourhood_group  \\\n",
       "0  Room in South Harlem near Central Park    Gilles                    2   \n",
       "\n",
       "   neighbourhood  room_type  \n",
       "0             94          1  "
      ]
     },
     "metadata": {},
     "output_type": "display_data"
    }
   ],
   "source": [
    "#범주형 변수\n",
    "from sklearn.preprocessing import LabelEncoder\n",
    "le = LabelEncoder()\n",
    "cols = [\n",
    "    'neighbourhood_group',\n",
    "    'neighbourhood',\n",
    "    'room_type'\n",
    "]\n",
    "\n",
    "display(c_train.head(1))\n",
    "for col in cols:\n",
    "    c_train[col] = le.fit_transform(c_train[col])\n",
    "    c_test[col] = le.transform(c_test[col])\n",
    "    \n",
    "display(c_train.head(1))"
   ]
  },
  {
   "cell_type": "code",
   "execution_count": 252,
   "id": "b3ce1dfd",
   "metadata": {},
   "outputs": [],
   "source": [
    "del_cols = ['name', 'host_name']\n",
    "c_train = c_train.drop(del_cols, axis=1)\n",
    "c_test = c_test.drop(del_cols, axis=1)"
   ]
  },
  {
   "cell_type": "code",
   "execution_count": 253,
   "id": "d31ffd69",
   "metadata": {},
   "outputs": [
    {
     "name": "stdout",
     "output_type": "stream",
     "text": [
      "(39116, 11) (9779, 11)\n"
     ]
    },
    {
     "data": {
      "text/html": [
       "<div>\n",
       "<style scoped>\n",
       "    .dataframe tbody tr th:only-of-type {\n",
       "        vertical-align: middle;\n",
       "    }\n",
       "\n",
       "    .dataframe tbody tr th {\n",
       "        vertical-align: top;\n",
       "    }\n",
       "\n",
       "    .dataframe thead th {\n",
       "        text-align: right;\n",
       "    }\n",
       "</style>\n",
       "<table border=\"1\" class=\"dataframe\">\n",
       "  <thead>\n",
       "    <tr style=\"text-align: right;\">\n",
       "      <th></th>\n",
       "      <th>host_id</th>\n",
       "      <th>latitude</th>\n",
       "      <th>longitude</th>\n",
       "      <th>minimum_nights</th>\n",
       "      <th>number_of_reviews</th>\n",
       "      <th>reviews_per_month</th>\n",
       "      <th>calculated_host_listings_count</th>\n",
       "      <th>availability_365</th>\n",
       "      <th>neighbourhood_group</th>\n",
       "      <th>neighbourhood</th>\n",
       "      <th>room_type</th>\n",
       "    </tr>\n",
       "  </thead>\n",
       "  <tbody>\n",
       "    <tr>\n",
       "      <th>0</th>\n",
       "      <td>0.343458</td>\n",
       "      <td>0.731742</td>\n",
       "      <td>0.539318</td>\n",
       "      <td>0.001601</td>\n",
       "      <td>0.004769</td>\n",
       "      <td>0.001538</td>\n",
       "      <td>0.003067</td>\n",
       "      <td>0.000000</td>\n",
       "      <td>2</td>\n",
       "      <td>94</td>\n",
       "      <td>1</td>\n",
       "    </tr>\n",
       "    <tr>\n",
       "      <th>1</th>\n",
       "      <td>0.178671</td>\n",
       "      <td>0.631633</td>\n",
       "      <td>0.478445</td>\n",
       "      <td>0.000801</td>\n",
       "      <td>0.101749</td>\n",
       "      <td>0.028718</td>\n",
       "      <td>0.003067</td>\n",
       "      <td>0.717808</td>\n",
       "      <td>2</td>\n",
       "      <td>95</td>\n",
       "      <td>0</td>\n",
       "    </tr>\n",
       "    <tr>\n",
       "      <th>2</th>\n",
       "      <td>0.001595</td>\n",
       "      <td>0.558041</td>\n",
       "      <td>0.449354</td>\n",
       "      <td>0.047238</td>\n",
       "      <td>0.001590</td>\n",
       "      <td>0.003419</td>\n",
       "      <td>0.000000</td>\n",
       "      <td>0.000000</td>\n",
       "      <td>2</td>\n",
       "      <td>209</td>\n",
       "      <td>0</td>\n",
       "    </tr>\n",
       "    <tr>\n",
       "      <th>3</th>\n",
       "      <td>0.013033</td>\n",
       "      <td>0.464162</td>\n",
       "      <td>0.579361</td>\n",
       "      <td>0.002402</td>\n",
       "      <td>0.379968</td>\n",
       "      <td>0.049402</td>\n",
       "      <td>0.003067</td>\n",
       "      <td>0.002740</td>\n",
       "      <td>1</td>\n",
       "      <td>13</td>\n",
       "      <td>0</td>\n",
       "    </tr>\n",
       "    <tr>\n",
       "      <th>4</th>\n",
       "      <td>0.045468</td>\n",
       "      <td>0.458611</td>\n",
       "      <td>0.543571</td>\n",
       "      <td>0.021617</td>\n",
       "      <td>0.000000</td>\n",
       "      <td>0.000000</td>\n",
       "      <td>0.000000</td>\n",
       "      <td>0.000000</td>\n",
       "      <td>1</td>\n",
       "      <td>13</td>\n",
       "      <td>1</td>\n",
       "    </tr>\n",
       "  </tbody>\n",
       "</table>\n",
       "</div>"
      ],
      "text/plain": [
       "    host_id  latitude  longitude  minimum_nights  number_of_reviews  \\\n",
       "0  0.343458  0.731742   0.539318        0.001601           0.004769   \n",
       "1  0.178671  0.631633   0.478445        0.000801           0.101749   \n",
       "2  0.001595  0.558041   0.449354        0.047238           0.001590   \n",
       "3  0.013033  0.464162   0.579361        0.002402           0.379968   \n",
       "4  0.045468  0.458611   0.543571        0.021617           0.000000   \n",
       "\n",
       "   reviews_per_month  calculated_host_listings_count  availability_365  \\\n",
       "0           0.001538                        0.003067          0.000000   \n",
       "1           0.028718                        0.003067          0.717808   \n",
       "2           0.003419                        0.000000          0.000000   \n",
       "3           0.049402                        0.003067          0.002740   \n",
       "4           0.000000                        0.000000          0.000000   \n",
       "\n",
       "   neighbourhood_group  neighbourhood  room_type  \n",
       "0                    2             94          1  \n",
       "1                    2             95          0  \n",
       "2                    2            209          0  \n",
       "3                    1             13          0  \n",
       "4                    1             13          1  "
      ]
     },
     "execution_count": 253,
     "metadata": {},
     "output_type": "execute_result"
    }
   ],
   "source": [
    "#분리한 데이터 다시 합침\n",
    "train = pd.concat([n_train, c_train], axis=1)\n",
    "test = pd.concat([n_test, c_test], axis=1)\n",
    "print(train.shape, test.shape)\n",
    "train.head()"
   ]
  },
  {
   "cell_type": "markdown",
   "id": "c0264b6e",
   "metadata": {},
   "source": [
    "## 검증 데이터 분리"
   ]
  },
  {
   "cell_type": "code",
   "execution_count": 254,
   "id": "23f272bb",
   "metadata": {},
   "outputs": [
    {
     "data": {
      "text/plain": [
       "((31292, 11), (7824, 11), (31292,), (7824,))"
      ]
     },
     "execution_count": 254,
     "metadata": {},
     "output_type": "execute_result"
    }
   ],
   "source": [
    "#검증 데이터 분리\n",
    "from sklearn.model_selection import train_test_split\n",
    "\n",
    "X_train, X_val, y_train, y_val = train_test_split(train, target, test_size=0.2, random_state=2022)\n",
    "X_train.shape, X_val.shape, y_train.shape, y_val.shape"
   ]
  },
  {
   "cell_type": "markdown",
   "id": "f04d4679",
   "metadata": {},
   "source": [
    "## 머신러닝"
   ]
  },
  {
   "cell_type": "code",
   "execution_count": 255,
   "id": "29327675",
   "metadata": {},
   "outputs": [
    {
     "data": {
      "text/plain": [
       "22286.997994177866"
      ]
     },
     "execution_count": 255,
     "metadata": {},
     "output_type": "execute_result"
    }
   ],
   "source": [
    "## Xgboost\n",
    "from xgboost import XGBRegressor\n",
    "model = XGBRegressor(max_depth=10,\n",
    "                    learning_rate=0.02,\n",
    "                    n_estimators=500,\n",
    "                    random_state=2022)\n",
    "\n",
    "model.fit(X_train, y_train)\n",
    "pred = model.predict(X_val)\n",
    "\n",
    "pred=np.expm1(pred)\n",
    "mean_squared_error(y_val, pred)"
   ]
  },
  {
   "cell_type": "code",
   "execution_count": 256,
   "id": "23145846",
   "metadata": {},
   "outputs": [
    {
     "data": {
      "text/plain": [
       "42778.2854814971"
      ]
     },
     "execution_count": 256,
     "metadata": {},
     "output_type": "execute_result"
    }
   ],
   "source": [
    "# test 데이터 예측 및 평가\n",
    "y_test = pd.read_csv('/aiffel/data/y_test.csv')\n",
    "\n",
    "#Xgboost\n",
    "pred = model.predict(test)\n",
    "\n",
    "pred = np.expm1(pred)\n",
    "mean_squared_error(y_test, pred)\n",
    "\n",
    "\n"
   ]
  },
  {
   "cell_type": "code",
   "execution_count": null,
   "id": "6795cfec",
   "metadata": {},
   "outputs": [],
   "source": []
  }
 ],
 "metadata": {
  "kernelspec": {
   "display_name": "Python 3 (ipykernel)",
   "language": "python",
   "name": "python3"
  },
  "language_info": {
   "codemirror_mode": {
    "name": "ipython",
    "version": 3
   },
   "file_extension": ".py",
   "mimetype": "text/x-python",
   "name": "python",
   "nbconvert_exporter": "python",
   "pygments_lexer": "ipython3",
   "version": "3.9.7"
  }
 },
 "nbformat": 4,
 "nbformat_minor": 5
}
